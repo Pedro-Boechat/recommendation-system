{
  "nbformat": 4,
  "nbformat_minor": 0,
  "metadata": {
    "colab": {
      "provenance": [],
      "authorship_tag": "ABX9TyPLJFv1Hh0UQeNOjU2JueKS",
      "include_colab_link": true
    },
    "kernelspec": {
      "name": "python3",
      "display_name": "Python 3"
    },
    "language_info": {
      "name": "python"
    },
    "accelerator": "GPU",
    "gpuClass": "standard",
    "widgets": {
      "application/vnd.jupyter.widget-state+json": {
        "080c5205ef684fc7ba31e0cef112389f": {
          "model_module": "@jupyter-widgets/controls",
          "model_name": "HBoxModel",
          "model_module_version": "1.5.0",
          "state": {
            "_dom_classes": [],
            "_model_module": "@jupyter-widgets/controls",
            "_model_module_version": "1.5.0",
            "_model_name": "HBoxModel",
            "_view_count": null,
            "_view_module": "@jupyter-widgets/controls",
            "_view_module_version": "1.5.0",
            "_view_name": "HBoxView",
            "box_style": "",
            "children": [
              "IPY_MODEL_796e74fc9fc24d039b534e1abbd03554",
              "IPY_MODEL_05d4cf16e31545a6ac5414da3e1a1752",
              "IPY_MODEL_d5104e89f2f54f69a9addfc0b3943668"
            ],
            "layout": "IPY_MODEL_bfbc63a203784390ae56f36b997bbe43"
          }
        },
        "796e74fc9fc24d039b534e1abbd03554": {
          "model_module": "@jupyter-widgets/controls",
          "model_name": "HTMLModel",
          "model_module_version": "1.5.0",
          "state": {
            "_dom_classes": [],
            "_model_module": "@jupyter-widgets/controls",
            "_model_module_version": "1.5.0",
            "_model_name": "HTMLModel",
            "_view_count": null,
            "_view_module": "@jupyter-widgets/controls",
            "_view_module_version": "1.5.0",
            "_view_name": "HTMLView",
            "description": "",
            "description_tooltip": null,
            "layout": "IPY_MODEL_585cb911ca7740b8b6e5aa16057e35a3",
            "placeholder": "​",
            "style": "IPY_MODEL_eec6d9747d7a4c579a39a4efd80bb943",
            "value": "100%"
          }
        },
        "05d4cf16e31545a6ac5414da3e1a1752": {
          "model_module": "@jupyter-widgets/controls",
          "model_name": "FloatProgressModel",
          "model_module_version": "1.5.0",
          "state": {
            "_dom_classes": [],
            "_model_module": "@jupyter-widgets/controls",
            "_model_module_version": "1.5.0",
            "_model_name": "FloatProgressModel",
            "_view_count": null,
            "_view_module": "@jupyter-widgets/controls",
            "_view_module_version": "1.5.0",
            "_view_name": "ProgressView",
            "bar_style": "success",
            "description": "",
            "description_tooltip": null,
            "layout": "IPY_MODEL_1c5d0a1f52dd425e9b83bbb8d782537b",
            "max": 128,
            "min": 0,
            "orientation": "horizontal",
            "style": "IPY_MODEL_83f218318ed14663b5c4517dad427d43",
            "value": 128
          }
        },
        "d5104e89f2f54f69a9addfc0b3943668": {
          "model_module": "@jupyter-widgets/controls",
          "model_name": "HTMLModel",
          "model_module_version": "1.5.0",
          "state": {
            "_dom_classes": [],
            "_model_module": "@jupyter-widgets/controls",
            "_model_module_version": "1.5.0",
            "_model_name": "HTMLModel",
            "_view_count": null,
            "_view_module": "@jupyter-widgets/controls",
            "_view_module_version": "1.5.0",
            "_view_name": "HTMLView",
            "description": "",
            "description_tooltip": null,
            "layout": "IPY_MODEL_26fd27fbcb2e42a19a53f2803c414176",
            "placeholder": "​",
            "style": "IPY_MODEL_e91163382ba1435b90e1a2b889750b82",
            "value": " 128/128 [03:21&lt;00:00,  1.57s/it]"
          }
        },
        "bfbc63a203784390ae56f36b997bbe43": {
          "model_module": "@jupyter-widgets/base",
          "model_name": "LayoutModel",
          "model_module_version": "1.2.0",
          "state": {
            "_model_module": "@jupyter-widgets/base",
            "_model_module_version": "1.2.0",
            "_model_name": "LayoutModel",
            "_view_count": null,
            "_view_module": "@jupyter-widgets/base",
            "_view_module_version": "1.2.0",
            "_view_name": "LayoutView",
            "align_content": null,
            "align_items": null,
            "align_self": null,
            "border": null,
            "bottom": null,
            "display": null,
            "flex": null,
            "flex_flow": null,
            "grid_area": null,
            "grid_auto_columns": null,
            "grid_auto_flow": null,
            "grid_auto_rows": null,
            "grid_column": null,
            "grid_gap": null,
            "grid_row": null,
            "grid_template_areas": null,
            "grid_template_columns": null,
            "grid_template_rows": null,
            "height": null,
            "justify_content": null,
            "justify_items": null,
            "left": null,
            "margin": null,
            "max_height": null,
            "max_width": null,
            "min_height": null,
            "min_width": null,
            "object_fit": null,
            "object_position": null,
            "order": null,
            "overflow": null,
            "overflow_x": null,
            "overflow_y": null,
            "padding": null,
            "right": null,
            "top": null,
            "visibility": null,
            "width": null
          }
        },
        "585cb911ca7740b8b6e5aa16057e35a3": {
          "model_module": "@jupyter-widgets/base",
          "model_name": "LayoutModel",
          "model_module_version": "1.2.0",
          "state": {
            "_model_module": "@jupyter-widgets/base",
            "_model_module_version": "1.2.0",
            "_model_name": "LayoutModel",
            "_view_count": null,
            "_view_module": "@jupyter-widgets/base",
            "_view_module_version": "1.2.0",
            "_view_name": "LayoutView",
            "align_content": null,
            "align_items": null,
            "align_self": null,
            "border": null,
            "bottom": null,
            "display": null,
            "flex": null,
            "flex_flow": null,
            "grid_area": null,
            "grid_auto_columns": null,
            "grid_auto_flow": null,
            "grid_auto_rows": null,
            "grid_column": null,
            "grid_gap": null,
            "grid_row": null,
            "grid_template_areas": null,
            "grid_template_columns": null,
            "grid_template_rows": null,
            "height": null,
            "justify_content": null,
            "justify_items": null,
            "left": null,
            "margin": null,
            "max_height": null,
            "max_width": null,
            "min_height": null,
            "min_width": null,
            "object_fit": null,
            "object_position": null,
            "order": null,
            "overflow": null,
            "overflow_x": null,
            "overflow_y": null,
            "padding": null,
            "right": null,
            "top": null,
            "visibility": null,
            "width": null
          }
        },
        "eec6d9747d7a4c579a39a4efd80bb943": {
          "model_module": "@jupyter-widgets/controls",
          "model_name": "DescriptionStyleModel",
          "model_module_version": "1.5.0",
          "state": {
            "_model_module": "@jupyter-widgets/controls",
            "_model_module_version": "1.5.0",
            "_model_name": "DescriptionStyleModel",
            "_view_count": null,
            "_view_module": "@jupyter-widgets/base",
            "_view_module_version": "1.2.0",
            "_view_name": "StyleView",
            "description_width": ""
          }
        },
        "1c5d0a1f52dd425e9b83bbb8d782537b": {
          "model_module": "@jupyter-widgets/base",
          "model_name": "LayoutModel",
          "model_module_version": "1.2.0",
          "state": {
            "_model_module": "@jupyter-widgets/base",
            "_model_module_version": "1.2.0",
            "_model_name": "LayoutModel",
            "_view_count": null,
            "_view_module": "@jupyter-widgets/base",
            "_view_module_version": "1.2.0",
            "_view_name": "LayoutView",
            "align_content": null,
            "align_items": null,
            "align_self": null,
            "border": null,
            "bottom": null,
            "display": null,
            "flex": null,
            "flex_flow": null,
            "grid_area": null,
            "grid_auto_columns": null,
            "grid_auto_flow": null,
            "grid_auto_rows": null,
            "grid_column": null,
            "grid_gap": null,
            "grid_row": null,
            "grid_template_areas": null,
            "grid_template_columns": null,
            "grid_template_rows": null,
            "height": null,
            "justify_content": null,
            "justify_items": null,
            "left": null,
            "margin": null,
            "max_height": null,
            "max_width": null,
            "min_height": null,
            "min_width": null,
            "object_fit": null,
            "object_position": null,
            "order": null,
            "overflow": null,
            "overflow_x": null,
            "overflow_y": null,
            "padding": null,
            "right": null,
            "top": null,
            "visibility": null,
            "width": null
          }
        },
        "83f218318ed14663b5c4517dad427d43": {
          "model_module": "@jupyter-widgets/controls",
          "model_name": "ProgressStyleModel",
          "model_module_version": "1.5.0",
          "state": {
            "_model_module": "@jupyter-widgets/controls",
            "_model_module_version": "1.5.0",
            "_model_name": "ProgressStyleModel",
            "_view_count": null,
            "_view_module": "@jupyter-widgets/base",
            "_view_module_version": "1.2.0",
            "_view_name": "StyleView",
            "bar_color": null,
            "description_width": ""
          }
        },
        "26fd27fbcb2e42a19a53f2803c414176": {
          "model_module": "@jupyter-widgets/base",
          "model_name": "LayoutModel",
          "model_module_version": "1.2.0",
          "state": {
            "_model_module": "@jupyter-widgets/base",
            "_model_module_version": "1.2.0",
            "_model_name": "LayoutModel",
            "_view_count": null,
            "_view_module": "@jupyter-widgets/base",
            "_view_module_version": "1.2.0",
            "_view_name": "LayoutView",
            "align_content": null,
            "align_items": null,
            "align_self": null,
            "border": null,
            "bottom": null,
            "display": null,
            "flex": null,
            "flex_flow": null,
            "grid_area": null,
            "grid_auto_columns": null,
            "grid_auto_flow": null,
            "grid_auto_rows": null,
            "grid_column": null,
            "grid_gap": null,
            "grid_row": null,
            "grid_template_areas": null,
            "grid_template_columns": null,
            "grid_template_rows": null,
            "height": null,
            "justify_content": null,
            "justify_items": null,
            "left": null,
            "margin": null,
            "max_height": null,
            "max_width": null,
            "min_height": null,
            "min_width": null,
            "object_fit": null,
            "object_position": null,
            "order": null,
            "overflow": null,
            "overflow_x": null,
            "overflow_y": null,
            "padding": null,
            "right": null,
            "top": null,
            "visibility": null,
            "width": null
          }
        },
        "e91163382ba1435b90e1a2b889750b82": {
          "model_module": "@jupyter-widgets/controls",
          "model_name": "DescriptionStyleModel",
          "model_module_version": "1.5.0",
          "state": {
            "_model_module": "@jupyter-widgets/controls",
            "_model_module_version": "1.5.0",
            "_model_name": "DescriptionStyleModel",
            "_view_count": null,
            "_view_module": "@jupyter-widgets/base",
            "_view_module_version": "1.2.0",
            "_view_name": "StyleView",
            "description_width": ""
          }
        }
      }
    }
  },
  "cells": [
    {
      "cell_type": "markdown",
      "metadata": {
        "id": "view-in-github",
        "colab_type": "text"
      },
      "source": [
        "<a href=\"https://colab.research.google.com/github/Pedro-Boechat/recommendation-system/blob/main/recommendation_system.ipynb\" target=\"_parent\"><img src=\"https://colab.research.google.com/assets/colab-badge.svg\" alt=\"Open In Colab\"/></a>"
      ]
    },
    {
      "cell_type": "markdown",
      "source": [
        "# Recommendation Systems"
      ],
      "metadata": {
        "id": "SyJJOIYt0jKn"
      }
    },
    {
      "cell_type": "markdown",
      "source": [
        "Recommendation systems are being more and more used by platforms in order to maximize sales and costumer satisfaction.\n",
        "\n",
        "There are two main principles to recommendation systems:\n",
        "\n",
        "- Collaborative filtering: In this case, recommendations are made based on the likes and dislikes of users who are similar to the target. This means that if both users liked X product, and one of them also likes Y product, the other one probably will like it too.\n",
        "\n",
        "- Content-based filtering: On the other hand, content-based filtering works by recommending items that share features with an item the user has liked in the past."
      ],
      "metadata": {
        "id": "lt0c0HJc0oEg"
      }
    },
    {
      "cell_type": "markdown",
      "source": [
        "![image.png](data:image/png;base64,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)"
      ],
      "metadata": {
        "id": "x5KEdRCe0g1v"
      }
    },
    {
      "cell_type": "markdown",
      "source": [
        "Today we will use collaborative filtering to build a movie recommendation system."
      ],
      "metadata": {
        "id": "HY1sK5RZ2BIw"
      }
    },
    {
      "cell_type": "code",
      "execution_count": null,
      "metadata": {
        "id": "0K2JakBxWhcX"
      },
      "outputs": [],
      "source": [
        "import pandas as pd\n",
        "import numpy as np\n",
        "import matplotlib.pyplot as plt\n",
        "import seaborn as sns\n",
        "import sklearn\n",
        "from sklearn.cluster import KMeans"
      ]
    },
    {
      "cell_type": "code",
      "source": [
        "import torch\n",
        "import numpy as np\n",
        "from torch.autograd import Variable\n",
        "from tqdm import tqdm_notebook as tqdm"
      ],
      "metadata": {
        "id": "4HrWA6BzEC11"
      },
      "execution_count": null,
      "outputs": []
    },
    {
      "cell_type": "code",
      "source": [
        "# Creating the dataloader (necessary for PyTorch)\n",
        "from torch.utils.data.dataset import Dataset\n",
        "from torch.utils.data import DataLoader # package that helps transform your data to machine learning readiness"
      ],
      "metadata": {
        "id": "9UxPb-QdfWs1"
      },
      "execution_count": null,
      "outputs": []
    },
    {
      "cell_type": "code",
      "source": [
        "df = pd.read_csv('Dataset.csv')\n",
        "df_ids = pd.read_csv('Movie_Id_Titles.csv')"
      ],
      "metadata": {
        "id": "iacpWirDXCWp"
      },
      "execution_count": null,
      "outputs": []
    },
    {
      "cell_type": "code",
      "source": [
        "df.shape"
      ],
      "metadata": {
        "colab": {
          "base_uri": "https://localhost:8080/"
        },
        "id": "yCNV_r13YAmx",
        "outputId": "99ab7f9d-42ba-4ab1-d328-18aa7d1b5996"
      },
      "execution_count": null,
      "outputs": [
        {
          "output_type": "execute_result",
          "data": {
            "text/plain": [
              "(100003, 4)"
            ]
          },
          "metadata": {},
          "execution_count": 4
        }
      ]
    },
    {
      "cell_type": "code",
      "source": [
        "df.head()"
      ],
      "metadata": {
        "colab": {
          "base_uri": "https://localhost:8080/",
          "height": 206
        },
        "id": "jXhKoNnqXK7a",
        "outputId": "2fd6488c-fded-470f-85d5-5f43d57e876b"
      },
      "execution_count": null,
      "outputs": [
        {
          "output_type": "execute_result",
          "data": {
            "text/plain": [
              "   user_id  item_id  rating  timestamp\n",
              "0        0       50       5  881250949\n",
              "1        0      172       5  881250949\n",
              "2        0      133       1  881250949\n",
              "3      196      242       3  881250949\n",
              "4      186      302       3  891717742"
            ],
            "text/html": [
              "\n",
              "  <div id=\"df-7b75e7ef-daec-46fb-b94d-102ba86c544d\">\n",
              "    <div class=\"colab-df-container\">\n",
              "      <div>\n",
              "<style scoped>\n",
              "    .dataframe tbody tr th:only-of-type {\n",
              "        vertical-align: middle;\n",
              "    }\n",
              "\n",
              "    .dataframe tbody tr th {\n",
              "        vertical-align: top;\n",
              "    }\n",
              "\n",
              "    .dataframe thead th {\n",
              "        text-align: right;\n",
              "    }\n",
              "</style>\n",
              "<table border=\"1\" class=\"dataframe\">\n",
              "  <thead>\n",
              "    <tr style=\"text-align: right;\">\n",
              "      <th></th>\n",
              "      <th>user_id</th>\n",
              "      <th>item_id</th>\n",
              "      <th>rating</th>\n",
              "      <th>timestamp</th>\n",
              "    </tr>\n",
              "  </thead>\n",
              "  <tbody>\n",
              "    <tr>\n",
              "      <th>0</th>\n",
              "      <td>0</td>\n",
              "      <td>50</td>\n",
              "      <td>5</td>\n",
              "      <td>881250949</td>\n",
              "    </tr>\n",
              "    <tr>\n",
              "      <th>1</th>\n",
              "      <td>0</td>\n",
              "      <td>172</td>\n",
              "      <td>5</td>\n",
              "      <td>881250949</td>\n",
              "    </tr>\n",
              "    <tr>\n",
              "      <th>2</th>\n",
              "      <td>0</td>\n",
              "      <td>133</td>\n",
              "      <td>1</td>\n",
              "      <td>881250949</td>\n",
              "    </tr>\n",
              "    <tr>\n",
              "      <th>3</th>\n",
              "      <td>196</td>\n",
              "      <td>242</td>\n",
              "      <td>3</td>\n",
              "      <td>881250949</td>\n",
              "    </tr>\n",
              "    <tr>\n",
              "      <th>4</th>\n",
              "      <td>186</td>\n",
              "      <td>302</td>\n",
              "      <td>3</td>\n",
              "      <td>891717742</td>\n",
              "    </tr>\n",
              "  </tbody>\n",
              "</table>\n",
              "</div>\n",
              "      <button class=\"colab-df-convert\" onclick=\"convertToInteractive('df-7b75e7ef-daec-46fb-b94d-102ba86c544d')\"\n",
              "              title=\"Convert this dataframe to an interactive table.\"\n",
              "              style=\"display:none;\">\n",
              "        \n",
              "  <svg xmlns=\"http://www.w3.org/2000/svg\" height=\"24px\"viewBox=\"0 0 24 24\"\n",
              "       width=\"24px\">\n",
              "    <path d=\"M0 0h24v24H0V0z\" fill=\"none\"/>\n",
              "    <path d=\"M18.56 5.44l.94 2.06.94-2.06 2.06-.94-2.06-.94-.94-2.06-.94 2.06-2.06.94zm-11 1L8.5 8.5l.94-2.06 2.06-.94-2.06-.94L8.5 2.5l-.94 2.06-2.06.94zm10 10l.94 2.06.94-2.06 2.06-.94-2.06-.94-.94-2.06-.94 2.06-2.06.94z\"/><path d=\"M17.41 7.96l-1.37-1.37c-.4-.4-.92-.59-1.43-.59-.52 0-1.04.2-1.43.59L10.3 9.45l-7.72 7.72c-.78.78-.78 2.05 0 2.83L4 21.41c.39.39.9.59 1.41.59.51 0 1.02-.2 1.41-.59l7.78-7.78 2.81-2.81c.8-.78.8-2.07 0-2.86zM5.41 20L4 18.59l7.72-7.72 1.47 1.35L5.41 20z\"/>\n",
              "  </svg>\n",
              "      </button>\n",
              "      \n",
              "  <style>\n",
              "    .colab-df-container {\n",
              "      display:flex;\n",
              "      flex-wrap:wrap;\n",
              "      gap: 12px;\n",
              "    }\n",
              "\n",
              "    .colab-df-convert {\n",
              "      background-color: #E8F0FE;\n",
              "      border: none;\n",
              "      border-radius: 50%;\n",
              "      cursor: pointer;\n",
              "      display: none;\n",
              "      fill: #1967D2;\n",
              "      height: 32px;\n",
              "      padding: 0 0 0 0;\n",
              "      width: 32px;\n",
              "    }\n",
              "\n",
              "    .colab-df-convert:hover {\n",
              "      background-color: #E2EBFA;\n",
              "      box-shadow: 0px 1px 2px rgba(60, 64, 67, 0.3), 0px 1px 3px 1px rgba(60, 64, 67, 0.15);\n",
              "      fill: #174EA6;\n",
              "    }\n",
              "\n",
              "    [theme=dark] .colab-df-convert {\n",
              "      background-color: #3B4455;\n",
              "      fill: #D2E3FC;\n",
              "    }\n",
              "\n",
              "    [theme=dark] .colab-df-convert:hover {\n",
              "      background-color: #434B5C;\n",
              "      box-shadow: 0px 1px 3px 1px rgba(0, 0, 0, 0.15);\n",
              "      filter: drop-shadow(0px 1px 2px rgba(0, 0, 0, 0.3));\n",
              "      fill: #FFFFFF;\n",
              "    }\n",
              "  </style>\n",
              "\n",
              "      <script>\n",
              "        const buttonEl =\n",
              "          document.querySelector('#df-7b75e7ef-daec-46fb-b94d-102ba86c544d button.colab-df-convert');\n",
              "        buttonEl.style.display =\n",
              "          google.colab.kernel.accessAllowed ? 'block' : 'none';\n",
              "\n",
              "        async function convertToInteractive(key) {\n",
              "          const element = document.querySelector('#df-7b75e7ef-daec-46fb-b94d-102ba86c544d');\n",
              "          const dataTable =\n",
              "            await google.colab.kernel.invokeFunction('convertToInteractive',\n",
              "                                                     [key], {});\n",
              "          if (!dataTable) return;\n",
              "\n",
              "          const docLinkHtml = 'Like what you see? Visit the ' +\n",
              "            '<a target=\"_blank\" href=https://colab.research.google.com/notebooks/data_table.ipynb>data table notebook</a>'\n",
              "            + ' to learn more about interactive tables.';\n",
              "          element.innerHTML = '';\n",
              "          dataTable['output_type'] = 'display_data';\n",
              "          await google.colab.output.renderOutput(dataTable, element);\n",
              "          const docLink = document.createElement('div');\n",
              "          docLink.innerHTML = docLinkHtml;\n",
              "          element.appendChild(docLink);\n",
              "        }\n",
              "      </script>\n",
              "    </div>\n",
              "  </div>\n",
              "  "
            ]
          },
          "metadata": {},
          "execution_count": 5
        }
      ]
    },
    {
      "cell_type": "code",
      "source": [
        "sns.countplot(y='rating', data=df, palette='pastel')"
      ],
      "metadata": {
        "colab": {
          "base_uri": "https://localhost:8080/",
          "height": 296
        },
        "id": "jYcBAmiIncsR",
        "outputId": "5e15d0c7-e3e0-4e78-ad67-e18bbdf032a1"
      },
      "execution_count": null,
      "outputs": [
        {
          "output_type": "execute_result",
          "data": {
            "text/plain": [
              "<Axes: xlabel='count', ylabel='rating'>"
            ]
          },
          "metadata": {},
          "execution_count": 70
        },
        {
          "output_type": "display_data",
          "data": {
            "text/plain": [
              "<Figure size 432x288 with 1 Axes>"
            ],
            "image/png": "[encoded data removed]"
          },
          "metadata": {
            "needs_background": "light"
          }
        }
      ]
    },
    {
      "cell_type": "markdown",
      "source": [
        "Here we can see how distributed our ratings are. There is a concentration of ratings around 3 and 4 stars."
      ],
      "metadata": {
        "id": "4iPK8gvFowPi"
      }
    },
    {
      "cell_type": "code",
      "source": [
        "n_items = len(df.item_id.unique())\n",
        "n_users = len(df.user_id.unique())\n",
        "print(f'We have {n_items} movies and {n_users} users')\n",
        "print(f'This means the matrix of ratings should have {n_items * n_users} elements. It has {df.shape[0]} elements, which shows that our matrix is only {df.shape[0]/(n_items*n_users)*100}% filled. This is natural for this kind of problem.')"
      ],
      "metadata": {
        "colab": {
          "base_uri": "https://localhost:8080/"
        },
        "id": "nH0XK4p_Xgp4",
        "outputId": "9a70a302-2c0f-45ec-f470-0f2cb99d6182"
      },
      "execution_count": null,
      "outputs": [
        {
          "output_type": "stream",
          "name": "stdout",
          "text": [
            "We have 1682 movies and 944 users\n",
            "This means the matrix of ratings should have 1587808 elements. It has 100003 elements, which shows that our matrix is only 6.298179628771237% filled. This is natural for this kind of problem.\n"
          ]
        }
      ]
    },
    {
      "cell_type": "code",
      "source": [
        "class MatrixFactorization(torch.nn.Module):\n",
        "    def __init__(self, n_users, n_items, n_factors=8):\n",
        "        super().__init__()\n",
        "        # create user embeddings\n",
        "        self.user_factors = torch.nn.Embedding(n_users, n_factors) # think of this as a lookup table for the input.\n",
        "        # create item embeddings\n",
        "        self.item_factors = torch.nn.Embedding(n_items, n_factors) # think of this as a lookup table for the input.\n",
        "        self.user_factors.weight.data.uniform_(0, 0.4)\n",
        "        self.item_factors.weight.data.uniform_(0, 0.4)\n",
        "        \n",
        "    def forward(self, data):\n",
        "        # matrix multiplication\n",
        "        users, items = data[:,0], data[:,1]\n",
        "        return (self.user_factors(users)*self.item_factors(items)).sum(1)\n",
        "    \n",
        "    def predict(self, user, item):\n",
        "        return self.forward(user, item)\n",
        "     "
      ],
      "metadata": {
        "id": "yocqVxT9YUZp"
      },
      "execution_count": null,
      "outputs": []
    },
    {
      "cell_type": "code",
      "source": [
        "# This class is responsible for loading and process the dataset, which is mandatory for pytorch\n",
        "\n",
        "class Loader(Dataset):\n",
        "\n",
        "    def __init__(self):\n",
        "        self.ratings = df.copy()\n",
        "        \n",
        "        # Extract all user IDs and movie IDs\n",
        "        users = df.user_id.unique()\n",
        "        movies = df.item_id.unique()\n",
        "        \n",
        "        # Making so that the IDs are continuous for users and movies\n",
        "        \n",
        "        # Unique values : index\n",
        "        self.userid2idx = {o:i for i,o in enumerate(users)}\n",
        "        self.movieid2idx = {o:i for i,o in enumerate(movies)}\n",
        "        \n",
        "        # Obtained continuous ID for users and movies\n",
        "        self.idx2userid = {i:o for o,i in self.userid2idx.items()}\n",
        "        self.idx2movieid = {i:o for o,i in self.movieid2idx.items()}\n",
        "        \n",
        "        # Switch id from the indexed values as noted in the lambda function down below.\n",
        "        self.ratings.item_id = df.item_id.apply(lambda x: self.movieid2idx[x])\n",
        "        self.ratings.user_id = df.user_id.apply(lambda x: self.userid2idx[x])\n",
        "        \n",
        "        \n",
        "        self.x = self.ratings.drop(['rating', 'timestamp'], axis=1).values\n",
        "        self.y = self.ratings['rating'].values\n",
        "        self.x, self.y = torch.tensor(self.x), torch.tensor(self.y) # Transforms the data to tensors (ready for torch models.)\n",
        "\n",
        "    # Auxiliary functions\n",
        "\n",
        "    def __getitem__(self, index):\n",
        "        return (self.x[index], self.y[index])\n",
        "\n",
        "    def __len__(self):\n",
        "        return len(self.ratings)"
      ],
      "metadata": {
        "id": "k5tFtm8BNun9"
      },
      "execution_count": null,
      "outputs": []
    },
    {
      "cell_type": "code",
      "source": [
        "n_epochs = 128\n",
        "cuda = torch.cuda.is_available()\n",
        "\n",
        "print(\"Is running on GPU:\", cuda)\n",
        "\n",
        "model = MatrixFactorization(n_users, n_items, n_factors=8)\n",
        "print(model)\n",
        "for name, param in model.named_parameters():\n",
        "    if param.requires_grad:\n",
        "        print(name, param.data)\n",
        "# GPU enable\n",
        "model = model.cuda()\n",
        "\n",
        "# MSE loss\n",
        "loss_fn = torch.nn.MSELoss()\n",
        "\n",
        "# ADAM optimizier\n",
        "optimizer = torch.optim.Adam(model.parameters(), lr=1e-3,capturable=True)\n",
        "\n",
        "\n",
        "# Train data\n",
        "train_set = Loader()\n",
        "train_loader = DataLoader(train_set, 128, shuffle=True)"
      ],
      "metadata": {
        "colab": {
          "base_uri": "https://localhost:8080/"
        },
        "id": "gM4MxC2uN0Yd",
        "outputId": "4551be11-d291-4567-a25d-775ca60aae6b"
      },
      "execution_count": null,
      "outputs": [
        {
          "output_type": "stream",
          "name": "stdout",
          "text": [
            "Is running on GPU: True\n",
            "MatrixFactorization(\n",
            "  (user_factors): Embedding(944, 8)\n",
            "  (item_factors): Embedding(1682, 8)\n",
            ")\n",
            "user_factors.weight tensor([[0.0415, 0.2441, 0.3804,  ..., 0.1369, 0.1130, 0.2708],\n",
            "        [0.2175, 0.0745, 0.1280,  ..., 0.0803, 0.2708, 0.3681],\n",
            "        [0.0512, 0.2153, 0.0887,  ..., 0.1803, 0.3889, 0.0261],\n",
            "        ...,\n",
            "        [0.1811, 0.0964, 0.2026,  ..., 0.3318, 0.2192, 0.3211],\n",
            "        [0.0773, 0.3559, 0.3001,  ..., 0.3535, 0.0331, 0.1535],\n",
            "        [0.0340, 0.2794, 0.2943,  ..., 0.2943, 0.2017, 0.0131]])\n",
            "item_factors.weight tensor([[0.3097, 0.2013, 0.1906,  ..., 0.3266, 0.1882, 0.0224],\n",
            "        [0.3050, 0.2703, 0.3499,  ..., 0.1137, 0.2079, 0.0875],\n",
            "        [0.3130, 0.3931, 0.3481,  ..., 0.3651, 0.2249, 0.2237],\n",
            "        ...,\n",
            "        [0.2170, 0.2108, 0.3572,  ..., 0.3951, 0.0908, 0.1838],\n",
            "        [0.0124, 0.1274, 0.1838,  ..., 0.3610, 0.1327, 0.3957],\n",
            "        [0.2787, 0.0678, 0.3061,  ..., 0.1554, 0.3749, 0.2659]])\n"
          ]
        }
      ]
    },
    {
      "cell_type": "code",
      "source": [
        "class Model_Train():\n",
        "  def __init__(self, n_epochs, data):\n",
        "    for it in tqdm(range(n_epochs)):\n",
        "      losses = []\n",
        "      for x, y in data:\n",
        "          if cuda:\n",
        "              x, y = x.cuda(), y.cuda()\n",
        "              optimizer.zero_grad()\n",
        "              outputs = model(x)\n",
        "              loss = loss_fn(outputs.squeeze(), y.type(torch.float32))\n",
        "              losses.append(loss.item())\n",
        "              loss.backward()\n",
        "              optimizer.step()\n",
        "      print(\"iter #{}\".format(it), \"Loss:\", sum(losses) / len(losses))"
      ],
      "metadata": {
        "id": "V1GZ0iLrgtIx"
      },
      "execution_count": null,
      "outputs": []
    },
    {
      "cell_type": "code",
      "source": [
        "Model_Train(n_epochs=128, data=train_loader)"
      ],
      "metadata": {
        "colab": {
          "base_uri": "https://localhost:8080/",
          "height": 1000,
          "referenced_widgets": [
            "080c5205ef684fc7ba31e0cef112389f",
            "796e74fc9fc24d039b534e1abbd03554",
            "05d4cf16e31545a6ac5414da3e1a1752",
            "d5104e89f2f54f69a9addfc0b3943668",
            "bfbc63a203784390ae56f36b997bbe43",
            "585cb911ca7740b8b6e5aa16057e35a3",
            "eec6d9747d7a4c579a39a4efd80bb943",
            "1c5d0a1f52dd425e9b83bbb8d782537b",
            "83f218318ed14663b5c4517dad427d43",
            "26fd27fbcb2e42a19a53f2803c414176",
            "e91163382ba1435b90e1a2b889750b82"
          ]
        },
        "id": "jscUMCpIh5qL",
        "outputId": "2f1dcfeb-a23f-45a0-e194-05759475acd8"
      },
      "execution_count": null,
      "outputs": [
        {
          "output_type": "stream",
          "name": "stderr",
          "text": [
            "<ipython-input-68-e6c722fc11db>:3: TqdmDeprecationWarning: This function will be removed in tqdm==5.0.0\n",
            "Please use `tqdm.notebook.tqdm` instead of `tqdm.tqdm_notebook`\n",
            "  for it in tqdm(range(n_epochs)):\n"
          ]
        },
        {
          "output_type": "display_data",
          "data": {
            "text/plain": [
              "  0%|          | 0/128 [00:00<?, ?it/s]"
            ],
            "application/vnd.jupyter.widget-view+json": {
              "version_major": 2,
              "version_minor": 0,
              "model_id": "080c5205ef684fc7ba31e0cef112389f"
            }
          },
          "metadata": {}
        },
        {
          "output_type": "stream",
          "name": "stdout",
          "text": [
            "iter #0 Loss: 7.866265371937276\n",
            "iter #1 Loss: 2.22632809185311\n",
            "iter #2 Loss: 1.1671337239882524\n",
            "iter #3 Loss: 0.9787751151167828\n",
            "iter #4 Loss: 0.9144384199396118\n",
            "iter #5 Loss: 0.8881490015617722\n",
            "iter #6 Loss: 0.8745047665008193\n",
            "iter #7 Loss: 0.8666162068581642\n",
            "iter #8 Loss: 0.8624904695374277\n",
            "iter #9 Loss: 0.8584857878020352\n",
            "iter #10 Loss: 0.8556322762575905\n",
            "iter #11 Loss: 0.8528616489351862\n",
            "iter #12 Loss: 0.8508556885335147\n",
            "iter #13 Loss: 0.8478907184375216\n",
            "iter #14 Loss: 0.8456167700650442\n",
            "iter #15 Loss: 0.8429022576193066\n",
            "iter #16 Loss: 0.8402806020453762\n",
            "iter #17 Loss: 0.8373089935773473\n",
            "iter #18 Loss: 0.8349455488307397\n",
            "iter #19 Loss: 0.8307128749082765\n",
            "iter #20 Loss: 0.8270241017155635\n",
            "iter #21 Loss: 0.8234937414336387\n",
            "iter #22 Loss: 0.818311056212696\n",
            "iter #23 Loss: 0.8142424315747703\n",
            "iter #24 Loss: 0.8089310444529404\n",
            "iter #25 Loss: 0.8032261582134325\n",
            "iter #26 Loss: 0.7971294891194004\n",
            "iter #27 Loss: 0.790946948253895\n",
            "iter #28 Loss: 0.7844575087127783\n",
            "iter #29 Loss: 0.7772234551741949\n",
            "iter #30 Loss: 0.7702920122067337\n",
            "iter #31 Loss: 0.7632217610354923\n",
            "iter #32 Loss: 0.7555630201726313\n",
            "iter #33 Loss: 0.74829593064535\n",
            "iter #34 Loss: 0.7413245996703273\n",
            "iter #35 Loss: 0.7337247440424721\n",
            "iter #36 Loss: 0.7272228614601028\n",
            "iter #37 Loss: 0.7203132116504948\n",
            "iter #38 Loss: 0.7140468161962831\n",
            "iter #39 Loss: 0.7085897610772907\n",
            "iter #40 Loss: 0.7024079989213163\n",
            "iter #41 Loss: 0.6970337811485886\n",
            "iter #42 Loss: 0.6919789454135139\n",
            "iter #43 Loss: 0.6874891541269429\n",
            "iter #44 Loss: 0.6827097563716151\n",
            "iter #45 Loss: 0.6783070654972739\n",
            "iter #46 Loss: 0.6740158643868878\n",
            "iter #47 Loss: 0.670673346008791\n",
            "iter #48 Loss: 0.6665851587377241\n",
            "iter #49 Loss: 0.6636068934903425\n",
            "iter #50 Loss: 0.6598049363745447\n",
            "iter #51 Loss: 0.6572268978332925\n",
            "iter #52 Loss: 0.6540027932285348\n",
            "iter #53 Loss: 0.65109157970037\n",
            "iter #54 Loss: 0.6485503475227015\n",
            "iter #55 Loss: 0.6457078592551638\n",
            "iter #56 Loss: 0.6434582615904796\n",
            "iter #57 Loss: 0.6410746054195077\n",
            "iter #58 Loss: 0.6386443662369038\n",
            "iter #59 Loss: 0.6369031883033035\n",
            "iter #60 Loss: 0.6350482714450573\n",
            "iter #61 Loss: 0.6328413744488031\n",
            "iter #62 Loss: 0.6311559544499877\n",
            "iter #63 Loss: 0.6287969498683119\n",
            "iter #64 Loss: 0.627179794680432\n",
            "iter #65 Loss: 0.625270431989904\n",
            "iter #66 Loss: 0.6238816152981785\n",
            "iter #67 Loss: 0.6223349229377859\n",
            "iter #68 Loss: 0.620693118256681\n",
            "iter #69 Loss: 0.6198077243764687\n",
            "iter #70 Loss: 0.6184736496347296\n",
            "iter #71 Loss: 0.6166179925965531\n",
            "iter #72 Loss: 0.6153061509208606\n",
            "iter #73 Loss: 0.6139846114856203\n",
            "iter #74 Loss: 0.6126899771830615\n",
            "iter #75 Loss: 0.6116735552582899\n",
            "iter #76 Loss: 0.6104796609991346\n",
            "iter #77 Loss: 0.6090818719790719\n",
            "iter #78 Loss: 0.6082609444856644\n",
            "iter #79 Loss: 0.6069788539501102\n",
            "iter #80 Loss: 0.6058457876410326\n",
            "iter #81 Loss: 0.6050843406287606\n",
            "iter #82 Loss: 0.6041234668792056\n",
            "iter #83 Loss: 0.6030755639838441\n",
            "iter #84 Loss: 0.6024943288711025\n",
            "iter #85 Loss: 0.6014413199461329\n",
            "iter #86 Loss: 0.6005637763101427\n",
            "iter #87 Loss: 0.5998729899944857\n",
            "iter #88 Loss: 0.5986037960137858\n",
            "iter #89 Loss: 0.5979263872441734\n",
            "iter #90 Loss: 0.5971079509505226\n",
            "iter #91 Loss: 0.5963357006726058\n",
            "iter #92 Loss: 0.5954517700788006\n",
            "iter #93 Loss: 0.5948222497921161\n",
            "iter #94 Loss: 0.59428282295499\n",
            "iter #95 Loss: 0.5933964091264988\n",
            "iter #96 Loss: 0.5927508469585263\n",
            "iter #97 Loss: 0.5920160501966696\n",
            "iter #98 Loss: 0.5910638066585107\n",
            "iter #99 Loss: 0.5904905300234895\n",
            "iter #100 Loss: 0.5900668749571456\n",
            "iter #101 Loss: 0.5893754301702275\n",
            "iter #102 Loss: 0.5884090934872932\n",
            "iter #103 Loss: 0.5882665360217814\n",
            "iter #104 Loss: 0.5876226670601788\n",
            "iter #105 Loss: 0.5869168823256212\n",
            "iter #106 Loss: 0.5866236791129003\n",
            "iter #107 Loss: 0.5856202457795667\n",
            "iter #108 Loss: 0.5851743364196909\n",
            "iter #109 Loss: 0.5848044316329615\n",
            "iter #110 Loss: 0.5840765158538623\n",
            "iter #111 Loss: 0.5837308305608647\n",
            "iter #112 Loss: 0.5833044841009027\n",
            "iter #113 Loss: 0.5827578947977032\n",
            "iter #114 Loss: 0.5822344490176882\n",
            "iter #115 Loss: 0.5817775267850408\n",
            "iter #116 Loss: 0.5812555298857067\n",
            "iter #117 Loss: 0.5809149142650082\n",
            "iter #118 Loss: 0.5802387426728788\n",
            "iter #119 Loss: 0.5799542969983557\n",
            "iter #120 Loss: 0.5793944707002177\n",
            "iter #121 Loss: 0.5789818313268139\n",
            "iter #122 Loss: 0.5786685645961396\n",
            "iter #123 Loss: 0.5780222892303906\n",
            "iter #124 Loss: 0.5778647065543763\n",
            "iter #125 Loss: 0.5773801568066678\n",
            "iter #126 Loss: 0.5771522466331491\n",
            "iter #127 Loss: 0.5768188419930466\n"
          ]
        },
        {
          "output_type": "execute_result",
          "data": {
            "text/plain": [
              "<__main__.Model_Train at 0x7f1914040fd0>"
            ]
          },
          "metadata": {},
          "execution_count": 69
        }
      ]
    },
    {
      "cell_type": "code",
      "source": [
        "# By training the model, we will have tuned latent factors for movies and users.\n",
        "c = 0\n",
        "uw = 0\n",
        "iw = 0 \n",
        "for name, param in model.named_parameters():\n",
        "    if param.requires_grad:\n",
        "        print(name, param.data)\n",
        "        if c == 0:\n",
        "          uw = param.data\n",
        "          c +=1\n",
        "        else:\n",
        "          iw = param.data\n",
        "        #print('param_data', param_data)\n",
        "\n",
        "# We can see that the weights were, in fact, changed. This means our algorithm worked."
      ],
      "metadata": {
        "colab": {
          "base_uri": "https://localhost:8080/"
        },
        "id": "rlssWMb-SNj4",
        "outputId": "f92d0a39-c6e5-4ea0-de0e-93243d51e313"
      },
      "execution_count": null,
      "outputs": [
        {
          "output_type": "stream",
          "name": "stdout",
          "text": [
            "user_factors.weight tensor([[-0.6762,  0.5290,  0.5541,  ...,  2.9793,  1.2444, -0.4785],\n",
            "        [ 0.8081,  0.8400,  0.9247,  ...,  0.0434,  0.2986,  0.3362],\n",
            "        [ 0.2530, -0.5975,  1.0025,  ...,  0.8363,  1.3702,  0.2670],\n",
            "        ...,\n",
            "        [ 0.1341, -0.5820,  1.2090,  ...,  0.3953,  0.8921,  1.4233],\n",
            "        [ 0.8885,  1.1606,  0.7398,  ..., -0.2172,  1.1214,  0.7420],\n",
            "        [ 0.5066,  0.3998,  0.8044,  ...,  0.6930,  0.4540,  1.2228]],\n",
            "       device='cuda:0')\n",
            "item_factors.weight tensor([[ 0.7165,  1.2986,  1.1291,  ...,  0.9849,  0.6564,  0.2900],\n",
            "        [ 0.7911,  1.2411,  1.0935,  ...,  0.8830,  0.7410,  0.1280],\n",
            "        [ 1.3379,  0.8874,  1.4110,  ..., -0.0122,  0.3536,  0.2992],\n",
            "        ...,\n",
            "        [ 0.6590,  0.6537,  0.7766,  ...,  0.7504,  0.5265,  0.6143],\n",
            "        [ 0.5099,  0.6268,  0.6552,  ...,  0.6656,  0.6243,  0.8795],\n",
            "        [ 0.7411,  0.5315,  0.7448,  ...,  0.5384,  0.8289,  0.7168]],\n",
            "       device='cuda:0')\n"
          ]
        }
      ]
    },
    {
      "cell_type": "code",
      "source": [
        "trained_movie_embeddings = model.item_factors.weight.data.cpu().numpy()"
      ],
      "metadata": {
        "id": "hJC_GwYo6OKq"
      },
      "execution_count": null,
      "outputs": []
    },
    {
      "cell_type": "code",
      "source": [
        "len(trained_movie_embeddings) # unique movie factor weights"
      ],
      "metadata": {
        "colab": {
          "base_uri": "https://localhost:8080/"
        },
        "id": "WeEs4fpc6QaC",
        "outputId": "bd53581c-846a-4099-8fd2-a5424fca43a3"
      },
      "execution_count": null,
      "outputs": [
        {
          "output_type": "execute_result",
          "data": {
            "text/plain": [
              "1682"
            ]
          },
          "metadata": {},
          "execution_count": 77
        }
      ]
    },
    {
      "cell_type": "code",
      "source": [
        "from sklearn.cluster import KMeans\n",
        "# Fit the clusters based on the movie weights\n",
        "kmeans = KMeans(n_clusters=12, random_state=0).fit(trained_movie_embeddings)"
      ],
      "metadata": {
        "colab": {
          "base_uri": "https://localhost:8080/"
        },
        "id": "hUR_1NBJ6S55",
        "outputId": "c298a195-2e0b-4e19-afd8-a498bff26625"
      },
      "execution_count": null,
      "outputs": [
        {
          "output_type": "stream",
          "name": "stderr",
          "text": [
            "/usr/local/lib/python3.9/dist-packages/sklearn/cluster/_kmeans.py:870: FutureWarning: The default value of `n_init` will change from 10 to 'auto' in 1.4. Set the value of `n_init` explicitly to suppress the warning\n",
            "  warnings.warn(\n"
          ]
        }
      ]
    },
    {
      "cell_type": "code",
      "source": [
        "movie_names = df_ids.set_index('item_id')['title'].to_dict()"
      ],
      "metadata": {
        "id": "zgFyms5wdJAJ"
      },
      "execution_count": null,
      "outputs": []
    },
    {
      "cell_type": "code",
      "source": [
        "# Note from this result that similar movies are in the same clusters. It is worth mentioning that the algorithm doesn't know the movie titles\n",
        "# This clustering is only provided by the numbers of the weights, and have no biases around the names of the items.\n",
        "\n",
        "for cluster in range(12):\n",
        "  print(\"Cluster #{}\".format(cluster))\n",
        "  movs = []\n",
        "  for movidx in np.where(kmeans.labels_ == cluster)[0]:\n",
        "    movid = train_set.idx2movieid[movidx]\n",
        "    rat_count = df.loc[df['item_id']==movid].count()[0]\n",
        "    movs.append((movie_names[movid], rat_count))\n",
        "  for mov in sorted(movs, key=lambda tup: tup[1], reverse=True)[:20]:\n",
        "    print(\"\\t\", mov[0])"
      ],
      "metadata": {
        "colab": {
          "base_uri": "https://localhost:8080/"
        },
        "id": "g72xbN5s6V4r",
        "outputId": "a986ff3e-02f2-425a-a2f6-e669df828d00"
      },
      "execution_count": null,
      "outputs": [
        {
          "output_type": "stream",
          "name": "stdout",
          "text": [
            "Cluster #0\n",
            "\t Truth About Cats & Dogs, The (1996)\n",
            "\t Sleepless in Seattle (1993)\n",
            "\t Ghost (1990)\n",
            "\t Dragonheart (1996)\n",
            "\t Last of the Mohicans, The (1992)\n",
            "\t Michael (1996)\n",
            "\t Star Trek: The Motion Picture (1979)\n",
            "\t Dirty Dancing (1987)\n",
            "\t Spitfire Grill, The (1996)\n",
            "\t Three Musketeers, The (1993)\n",
            "\t First Knight (1995)\n",
            "\t Beautician and the Beast, The (1997)\n",
            "\t Up Close and Personal (1996)\n",
            "\t Somewhere in Time (1980)\n",
            "\t Santa Clause, The (1994)\n",
            "\t Legends of the Fall (1994)\n",
            "\t Picture Perfect (1997)\n",
            "\t Dolores Claiborne (1994)\n",
            "\t Crucible, The (1996)\n",
            "\t Circle of Friends (1995)\n",
            "Cluster #1\n",
            "\t Pulp Fiction (1994)\n",
            "\t Twelve Monkeys (1995)\n",
            "\t Monty Python and the Holy Grail (1974)\n",
            "\t Terminator, The (1984)\n",
            "\t Blade Runner (1982)\n",
            "\t Clockwork Orange, A (1971)\n",
            "\t Brazil (1985)\n",
            "\t Fifth Element, The (1997)\n",
            "\t This Is Spinal Tap (1984)\n",
            "\t Cop Land (1997)\n",
            "\t Monty Python's Life of Brian (1979)\n",
            "\t Rumble in the Bronx (1995)\n",
            "\t Full Metal Jacket (1987)\n",
            "\t Mother (1996)\n",
            "\t Everyone Says I Love You (1996)\n",
            "\t Grosse Pointe Blank (1997)\n",
            "\t Professional, The (1994)\n",
            "\t Reservoir Dogs (1992)\n",
            "\t Clerks (1994)\n",
            "\t Jackie Chan's First Strike (1996)\n",
            "Cluster #2\n",
            "\t Independence Day (ID4) (1996)\n",
            "\t Mission: Impossible (1996)\n",
            "\t Men in Black (1997)\n",
            "\t Twister (1996)\n",
            "\t Broken Arrow (1996)\n",
            "\t Devil's Own, The (1997)\n",
            "\t Dante's Peak (1997)\n",
            "\t Volcano (1997)\n",
            "\t Murder at 1600 (1997)\n",
            "\t Eraser (1996)\n",
            "\t Long Kiss Goodnight, The (1996)\n",
            "\t G.I. Jane (1997)\n",
            "\t Die Hard 2 (1990)\n",
            "\t Executive Decision (1996)\n",
            "\t Grumpier Old Men (1995)\n",
            "\t Spawn (1997)\n",
            "\t Con Air (1997)\n",
            "\t Peacemaker, The (1997)\n",
            "\t Gattaca (1997)\n",
            "\t Crow, The (1994)\n",
            "Cluster #3\n",
            "\t Dead Man Walking (1995)\n",
            "\t Chasing Amy (1997)\n",
            "\t Emma (1996)\n",
            "\t Swingers (1996)\n",
            "\t Shine (1996)\n",
            "\t Lost Highway (1997)\n",
            "\t Cold Comfort Farm (1995)\n",
            "\t Chasing Amy (1997)\n",
            "\t What's Eating Gilbert Grape (1993)\n",
            "\t Adventures of Priscilla, Queen of the Desert, The (1994)\n",
            "\t In the Name of the Father (1993)\n",
            "\t Romy and Michele's High School Reunion (1997)\n",
            "\t Matilda (1996)\n",
            "\t So I Married an Axe Murderer (1993)\n",
            "\t Michael Collins (1996)\n",
            "\t Rob Roy (1995)\n",
            "\t Nixon (1995)\n",
            "\t Reality Bites (1994)\n",
            "\t Six Degrees of Separation (1993)\n",
            "\t Seventh Seal, The (Sjunde inseglet, Det) (1957)\n",
            "Cluster #4\n",
            "\t Cable Guy, The (1996)\n",
            "\t Very Brady Sequel, A (1996)\n",
            "\t Mulholland Falls (1996)\n",
            "\t Dracula: Dead and Loving It (1995)\n",
            "\t Lawnmower Man 2: Beyond Cyberspace (1996)\n",
            "\t Children of the Corn: The Gathering (1996)\n",
            "\t Ready to Wear (Pret-A-Porter) (1994)\n",
            "\t Cops and Robbersons (1994)\n",
            "\t Pagemaster, The (1994)\n",
            "\t House Party 3 (1994)\n",
            "\t Dunston Checks In (1996)\n",
            "\t Amityville 3-D (1983)\n",
            "\t Amityville: A New Generation (1993)\n",
            "\t Phat Beach (1996)\n",
            "\t 3 Ninjas: High Noon At Mega Mountain (1998)\n",
            "\t Amityville 1992: It's About Time (1992)\n",
            "\t Jefferson in Paris (1995)\n",
            "\t Castle Freak (1995)\n",
            "\t Amityville Curse, The (1990)\n",
            "\t Mr. Wonderful (1993)\n",
            "Cluster #5\n",
            "\t Liar Liar (1997)\n",
            "\t Saint, The (1997)\n",
            "\t Evita (1996)\n",
            "\t That Thing You Do! (1996)\n",
            "\t George of the Jungle (1997)\n",
            "\t Seven Years in Tibet (1997)\n",
            "\t Batman Returns (1992)\n",
            "\t Interview with the Vampire (1994)\n",
            "\t Mask, The (1994)\n",
            "\t Bram Stoker's Dracula (1992)\n",
            "\t Waterworld (1995)\n",
            "\t Fierce Creatures (1997)\n",
            "\t Demolition Man (1993)\n",
            "\t Muppet Treasure Island (1996)\n",
            "\t Midnight in the Garden of Good and Evil (1997)\n",
            "\t Marvin's Room (1996)\n",
            "\t She's the One (1996)\n",
            "\t Wedding Singer, The (1998)\n",
            "\t Things to Do in Denver when You're Dead (1995)\n",
            "\t Enchanted April (1991)\n",
            "Cluster #6\n",
            "\t E.T. the Extra-Terrestrial (1982)\n",
            "\t Jurassic Park (1993)\n",
            "\t Wizard of Oz, The (1939)\n",
            "\t It's a Wonderful Life (1946)\n",
            "\t Speed (1994)\n",
            "\t Sound of Music, The (1965)\n",
            "\t Lion King, The (1994)\n",
            "\t Field of Dreams (1989)\n",
            "\t Beauty and the Beast (1991)\n",
            "\t Mrs. Doubtfire (1993)\n",
            "\t Mary Poppins (1964)\n",
            "\t Gone with the Wind (1939)\n",
            "\t Snow White and the Seven Dwarfs (1937)\n",
            "\t Grease (1978)\n",
            "\t Pretty Woman (1990)\n",
            "\t Lost World: Jurassic Park, The (1997)\n",
            "\t Singin' in the Rain (1952)\n",
            "\t Home Alone (1990)\n",
            "\t Patton (1970)\n",
            "\t Cinderella (1950)\n",
            "Cluster #7\n",
            "\t Fargo (1996)\n",
            "\t Godfather, The (1972)\n",
            "\t Leaving Las Vegas (1995)\n",
            "\t Raising Arizona (1987)\n",
            "\t Casablanca (1942)\n",
            "\t Graduate, The (1967)\n",
            "\t Psycho (1960)\n",
            "\t GoodFellas (1990)\n",
            "\t Apocalypse Now (1979)\n",
            "\t To Kill a Mockingbird (1962)\n",
            "\t Butch Cassidy and the Sundance Kid (1969)\n",
            "\t Rear Window (1954)\n",
            "\t Godfather: Part II, The (1974)\n",
            "\t Shining, The (1980)\n",
            "\t M*A*S*H (1970)\n",
            "\t Citizen Kane (1941)\n",
            "\t Dr. Strangelove or: How I Learned to Stop Worrying and Love the Bomb (1963)\n",
            "\t Lone Star (1996)\n",
            "\t Postino, Il (1994)\n",
            "\t Taxi Driver (1976)\n",
            "Cluster #8\n",
            "\t Star Wars (1977)\n",
            "\t Return of the Jedi (1983)\n",
            "\t Empire Strikes Back, The (1980)\n",
            "\t Alien (1979)\n",
            "\t Aliens (1986)\n",
            "\t 2001: A Space Odyssey (1968)\n",
            "\t Star Trek: The Wrath of Khan (1982)\n",
            "\t Starship Troopers (1997)\n",
            "\t Star Trek IV: The Voyage Home (1986)\n",
            "\t Star Trek III: The Search for Spock (1984)\n",
            "\t Star Trek VI: The Undiscovered Country (1991)\n",
            "\t Happy Gilmore (1996)\n",
            "\t Good, The Bad and The Ugly, The (1966)\n",
            "\t Alien: Resurrection (1997)\n",
            "\t Star Trek: Generations (1994)\n",
            "\t Jumanji (1995)\n",
            "\t Escape from New York (1981)\n",
            "\t Addams Family Values (1993)\n",
            "\t Arrival, The (1996)\n",
            "\t Brady Bunch Movie, The (1995)\n",
            "Cluster #9\n",
            "\t Full Monty, The (1997)\n",
            "\t L.A. Confidential (1997)\n",
            "\t Trainspotting (1996)\n",
            "\t Mars Attacks! (1996)\n",
            "\t People vs. Larry Flynt, The (1996)\n",
            "\t Boogie Nights (1997)\n",
            "\t Mighty Aphrodite (1995)\n",
            "\t Heathers (1989)\n",
            "\t Secrets & Lies (1996)\n",
            "\t Remains of the Day, The (1993)\n",
            "\t Nightmare Before Christmas, The (1993)\n",
            "\t Nikita (La Femme Nikita) (1990)\n",
            "\t Jackie Brown (1997)\n",
            "\t Kolya (1996)\n",
            "\t Hoop Dreams (1994)\n",
            "\t Army of Darkness (1993)\n",
            "\t Strictly Ballroom (1992)\n",
            "\t American Werewolf in London, An (1981)\n",
            "\t Unbearable Lightness of Being, The (1988)\n",
            "\t Return of the Pink Panther, The (1974)\n",
            "Cluster #10\n",
            "\t Clueless (1995)\n",
            "\t Nutty Professor, The (1996)\n",
            "\t Beavis and Butt-head Do America (1996)\n",
            "\t Crash (1996)\n",
            "\t Event Horizon (1997)\n",
            "\t Ben-Hur (1959)\n",
            "\t Scream 2 (1997)\n",
            "\t I Know What You Did Last Summer (1997)\n",
            "\t Age of Innocence, The (1993)\n",
            "\t Night of the Living Dead (1968)\n",
            "\t Island of Dr. Moreau, The (1996)\n",
            "\t Booty Call (1997)\n",
            "\t Money Talks (1997)\n",
            "\t Bride of Frankenstein (1935)\n",
            "\t Screamers (1995)\n",
            "\t Fear (1996)\n",
            "\t Sweet Hereafter, The (1997)\n",
            "\t Fallen (1998)\n",
            "\t Anaconda (1997)\n",
            "\t Belle de jour (1967)\n",
            "Cluster #11\n",
            "\t Contact (1997)\n",
            "\t English Patient, The (1996)\n",
            "\t Scream (1996)\n",
            "\t Toy Story (1995)\n",
            "\t Air Force One (1997)\n",
            "\t Raiders of the Lost Ark (1981)\n",
            "\t Silence of the Lambs, The (1991)\n",
            "\t Jerry Maguire (1996)\n",
            "\t Rock, The (1996)\n",
            "\t Star Trek: First Contact (1996)\n",
            "\t Back to the Future (1985)\n",
            "\t Titanic (1997)\n",
            "\t Fugitive, The (1993)\n",
            "\t Indiana Jones and the Last Crusade (1989)\n",
            "\t Willy Wonka and the Chocolate Factory (1971)\n",
            "\t Princess Bride, The (1987)\n",
            "\t Forrest Gump (1994)\n",
            "\t Schindler's List (1993)\n",
            "\t Braveheart (1995)\n",
            "\t Conspiracy Theory (1997)\n"
          ]
        }
      ]
    }
  ]
}