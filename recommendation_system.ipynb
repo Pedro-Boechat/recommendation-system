{
  "nbformat": 4,
  "nbformat_minor": 0,
  "metadata": {
    "colab": {
      "provenance": [],
      "authorship_tag": "ABX9TyNtgWxjIokzT68hf3jCXOEh",
      "include_colab_link": true
    },
    "kernelspec": {
      "name": "python3",
      "display_name": "Python 3"
    },
    "language_info": {
      "name": "python"
    },
    "accelerator": "GPU",
    "gpuClass": "standard",
    "widgets": {
      "application/vnd.jupyter.widget-state+json": {
        "080c5205ef684fc7ba31e0cef112389f": {
          "model_module": "@jupyter-widgets/controls",
          "model_name": "HBoxModel",
          "model_module_version": "1.5.0",
          "state": {
            "_dom_classes": [],
            "_model_module": "@jupyter-widgets/controls",
            "_model_module_version": "1.5.0",
            "_model_name": "HBoxModel",
            "_view_count": null,
            "_view_module": "@jupyter-widgets/controls",
            "_view_module_version": "1.5.0",
            "_view_name": "HBoxView",
            "box_style": "",
            "children": [
              "IPY_MODEL_796e74fc9fc24d039b534e1abbd03554",
              "IPY_MODEL_05d4cf16e31545a6ac5414da3e1a1752",
              "IPY_MODEL_d5104e89f2f54f69a9addfc0b3943668"
            ],
            "layout": "IPY_MODEL_bfbc63a203784390ae56f36b997bbe43"
          }
        },
        "796e74fc9fc24d039b534e1abbd03554": {
          "model_module": "@jupyter-widgets/controls",
          "model_name": "HTMLModel",
          "model_module_version": "1.5.0",
          "state": {
            "_dom_classes": [],
            "_model_module": "@jupyter-widgets/controls",
            "_model_module_version": "1.5.0",
            "_model_name": "HTMLModel",
            "_view_count": null,
            "_view_module": "@jupyter-widgets/controls",
            "_view_module_version": "1.5.0",
            "_view_name": "HTMLView",
            "description": "",
            "description_tooltip": null,
            "layout": "IPY_MODEL_585cb911ca7740b8b6e5aa16057e35a3",
            "placeholder": "​",
            "style": "IPY_MODEL_eec6d9747d7a4c579a39a4efd80bb943",
            "value": "100%"
          }
        },
        "05d4cf16e31545a6ac5414da3e1a1752": {
          "model_module": "@jupyter-widgets/controls",
          "model_name": "FloatProgressModel",
          "model_module_version": "1.5.0",
          "state": {
            "_dom_classes": [],
            "_model_module": "@jupyter-widgets/controls",
            "_model_module_version": "1.5.0",
            "_model_name": "FloatProgressModel",
            "_view_count": null,
            "_view_module": "@jupyter-widgets/controls",
            "_view_module_version": "1.5.0",
            "_view_name": "ProgressView",
            "bar_style": "success",
            "description": "",
            "description_tooltip": null,
            "layout": "IPY_MODEL_1c5d0a1f52dd425e9b83bbb8d782537b",
            "max": 128,
            "min": 0,
            "orientation": "horizontal",
            "style": "IPY_MODEL_83f218318ed14663b5c4517dad427d43",
            "value": 128
          }
        },
        "d5104e89f2f54f69a9addfc0b3943668": {
          "model_module": "@jupyter-widgets/controls",
          "model_name": "HTMLModel",
          "model_module_version": "1.5.0",
          "state": {
            "_dom_classes": [],
            "_model_module": "@jupyter-widgets/controls",
            "_model_module_version": "1.5.0",
            "_model_name": "HTMLModel",
            "_view_count": null,
            "_view_module": "@jupyter-widgets/controls",
            "_view_module_version": "1.5.0",
            "_view_name": "HTMLView",
            "description": "",
            "description_tooltip": null,
            "layout": "IPY_MODEL_26fd27fbcb2e42a19a53f2803c414176",
            "placeholder": "​",
            "style": "IPY_MODEL_e91163382ba1435b90e1a2b889750b82",
            "value": " 128/128 [03:21&lt;00:00,  1.57s/it]"
          }
        },
        "bfbc63a203784390ae56f36b997bbe43": {
          "model_module": "@jupyter-widgets/base",
          "model_name": "LayoutModel",
          "model_module_version": "1.2.0",
          "state": {
            "_model_module": "@jupyter-widgets/base",
            "_model_module_version": "1.2.0",
            "_model_name": "LayoutModel",
            "_view_count": null,
            "_view_module": "@jupyter-widgets/base",
            "_view_module_version": "1.2.0",
            "_view_name": "LayoutView",
            "align_content": null,
            "align_items": null,
            "align_self": null,
            "border": null,
            "bottom": null,
            "display": null,
            "flex": null,
            "flex_flow": null,
            "grid_area": null,
            "grid_auto_columns": null,
            "grid_auto_flow": null,
            "grid_auto_rows": null,
            "grid_column": null,
            "grid_gap": null,
            "grid_row": null,
            "grid_template_areas": null,
            "grid_template_columns": null,
            "grid_template_rows": null,
            "height": null,
            "justify_content": null,
            "justify_items": null,
            "left": null,
            "margin": null,
            "max_height": null,
            "max_width": null,
            "min_height": null,
            "min_width": null,
            "object_fit": null,
            "object_position": null,
            "order": null,
            "overflow": null,
            "overflow_x": null,
            "overflow_y": null,
            "padding": null,
            "right": null,
            "top": null,
            "visibility": null,
            "width": null
          }
        },
        "585cb911ca7740b8b6e5aa16057e35a3": {
          "model_module": "@jupyter-widgets/base",
          "model_name": "LayoutModel",
          "model_module_version": "1.2.0",
          "state": {
            "_model_module": "@jupyter-widgets/base",
            "_model_module_version": "1.2.0",
            "_model_name": "LayoutModel",
            "_view_count": null,
            "_view_module": "@jupyter-widgets/base",
            "_view_module_version": "1.2.0",
            "_view_name": "LayoutView",
            "align_content": null,
            "align_items": null,
            "align_self": null,
            "border": null,
            "bottom": null,
            "display": null,
            "flex": null,
            "flex_flow": null,
            "grid_area": null,
            "grid_auto_columns": null,
            "grid_auto_flow": null,
            "grid_auto_rows": null,
            "grid_column": null,
            "grid_gap": null,
            "grid_row": null,
            "grid_template_areas": null,
            "grid_template_columns": null,
            "grid_template_rows": null,
            "height": null,
            "justify_content": null,
            "justify_items": null,
            "left": null,
            "margin": null,
            "max_height": null,
            "max_width": null,
            "min_height": null,
            "min_width": null,
            "object_fit": null,
            "object_position": null,
            "order": null,
            "overflow": null,
            "overflow_x": null,
            "overflow_y": null,
            "padding": null,
            "right": null,
            "top": null,
            "visibility": null,
            "width": null
          }
        },
        "eec6d9747d7a4c579a39a4efd80bb943": {
          "model_module": "@jupyter-widgets/controls",
          "model_name": "DescriptionStyleModel",
          "model_module_version": "1.5.0",
          "state": {
            "_model_module": "@jupyter-widgets/controls",
            "_model_module_version": "1.5.0",
            "_model_name": "DescriptionStyleModel",
            "_view_count": null,
            "_view_module": "@jupyter-widgets/base",
            "_view_module_version": "1.2.0",
            "_view_name": "StyleView",
            "description_width": ""
          }
        },
        "1c5d0a1f52dd425e9b83bbb8d782537b": {
          "model_module": "@jupyter-widgets/base",
          "model_name": "LayoutModel",
          "model_module_version": "1.2.0",
          "state": {
            "_model_module": "@jupyter-widgets/base",
            "_model_module_version": "1.2.0",
            "_model_name": "LayoutModel",
            "_view_count": null,
            "_view_module": "@jupyter-widgets/base",
            "_view_module_version": "1.2.0",
            "_view_name": "LayoutView",
            "align_content": null,
            "align_items": null,
            "align_self": null,
            "border": null,
            "bottom": null,
            "display": null,
            "flex": null,
            "flex_flow": null,
            "grid_area": null,
            "grid_auto_columns": null,
            "grid_auto_flow": null,
            "grid_auto_rows": null,
            "grid_column": null,
            "grid_gap": null,
            "grid_row": null,
            "grid_template_areas": null,
            "grid_template_columns": null,
            "grid_template_rows": null,
            "height": null,
            "justify_content": null,
            "justify_items": null,
            "left": null,
            "margin": null,
            "max_height": null,
            "max_width": null,
            "min_height": null,
            "min_width": null,
            "object_fit": null,
            "object_position": null,
            "order": null,
            "overflow": null,
            "overflow_x": null,
            "overflow_y": null,
            "padding": null,
            "right": null,
            "top": null,
            "visibility": null,
            "width": null
          }
        },
        "83f218318ed14663b5c4517dad427d43": {
          "model_module": "@jupyter-widgets/controls",
          "model_name": "ProgressStyleModel",
          "model_module_version": "1.5.0",
          "state": {
            "_model_module": "@jupyter-widgets/controls",
            "_model_module_version": "1.5.0",
            "_model_name": "ProgressStyleModel",
            "_view_count": null,
            "_view_module": "@jupyter-widgets/base",
            "_view_module_version": "1.2.0",
            "_view_name": "StyleView",
            "bar_color": null,
            "description_width": ""
          }
        },
        "26fd27fbcb2e42a19a53f2803c414176": {
          "model_module": "@jupyter-widgets/base",
          "model_name": "LayoutModel",
          "model_module_version": "1.2.0",
          "state": {
            "_model_module": "@jupyter-widgets/base",
            "_model_module_version": "1.2.0",
            "_model_name": "LayoutModel",
            "_view_count": null,
            "_view_module": "@jupyter-widgets/base",
            "_view_module_version": "1.2.0",
            "_view_name": "LayoutView",
            "align_content": null,
            "align_items": null,
            "align_self": null,
            "border": null,
            "bottom": null,
            "display": null,
            "flex": null,
            "flex_flow": null,
            "grid_area": null,
            "grid_auto_columns": null,
            "grid_auto_flow": null,
            "grid_auto_rows": null,
            "grid_column": null,
            "grid_gap": null,
            "grid_row": null,
            "grid_template_areas": null,
            "grid_template_columns": null,
            "grid_template_rows": null,
            "height": null,
            "justify_content": null,
            "justify_items": null,
            "left": null,
            "margin": null,
            "max_height": null,
            "max_width": null,
            "min_height": null,
            "min_width": null,
            "object_fit": null,
            "object_position": null,
            "order": null,
            "overflow": null,
            "overflow_x": null,
            "overflow_y": null,
            "padding": null,
            "right": null,
            "top": null,
            "visibility": null,
            "width": null
          }
        },
        "e91163382ba1435b90e1a2b889750b82": {
          "model_module": "@jupyter-widgets/controls",
          "model_name": "DescriptionStyleModel",
          "model_module_version": "1.5.0",
          "state": {
            "_model_module": "@jupyter-widgets/controls",
            "_model_module_version": "1.5.0",
            "_model_name": "DescriptionStyleModel",
            "_view_count": null,
            "_view_module": "@jupyter-widgets/base",
            "_view_module_version": "1.2.0",
            "_view_name": "StyleView",
            "description_width": ""
          }
        }
      }
    }
  },
  "cells": [
    {
      "cell_type": "markdown",
      "metadata": {
        "id": "view-in-github",
        "colab_type": "text"
      },
      "source": [
        "<a href=\"https://colab.research.google.com/github/Pedro-Boechat/recommendation-system/blob/main/recommendation_system.ipynb\" target=\"_parent\"><img src=\"https://colab.research.google.com/assets/colab-badge.svg\" alt=\"Open In Colab\"/></a>"
      ]
    },
    {
      "cell_type": "code",
      "execution_count": 1,
      "metadata": {
        "id": "0K2JakBxWhcX"
      },
      "outputs": [],
      "source": [
        "import pandas as pd\n",
        "import numpy as np\n",
        "import matplotlib.pyplot as plt\n",
        "import seaborn as sns\n",
        "import sklearn\n",
        "from sklearn.cluster import KMeans"
      ]
    },
    {
      "cell_type": "code",
      "source": [
        "import torch\n",
        "import numpy as np\n",
        "from torch.autograd import Variable\n",
        "from tqdm import tqdm_notebook as tqdm"
      ],
      "metadata": {
        "id": "4HrWA6BzEC11"
      },
      "execution_count": 2,
      "outputs": []
    },
    {
      "cell_type": "code",
      "source": [
        "# Creating the dataloader (necessary for PyTorch)\n",
        "from torch.utils.data.dataset import Dataset\n",
        "from torch.utils.data import DataLoader # package that helps transform your data to machine learning readiness"
      ],
      "metadata": {
        "id": "9UxPb-QdfWs1"
      },
      "execution_count": null,
      "outputs": []
    },
    {
      "cell_type": "code",
      "source": [
        "df = pd.read_csv('Dataset.csv')\n",
        "df_ids = pd.read_csv('Movie_Id_Titles.csv')"
      ],
      "metadata": {
        "id": "iacpWirDXCWp"
      },
      "execution_count": 17,
      "outputs": []
    },
    {
      "cell_type": "code",
      "source": [
        "df.shape"
      ],
      "metadata": {
        "colab": {
          "base_uri": "https://localhost:8080/"
        },
        "id": "yCNV_r13YAmx",
        "outputId": "99ab7f9d-42ba-4ab1-d328-18aa7d1b5996"
      },
      "execution_count": 4,
      "outputs": [
        {
          "output_type": "execute_result",
          "data": {
            "text/plain": [
              "(100003, 4)"
            ]
          },
          "metadata": {},
          "execution_count": 4
        }
      ]
    },
    {
      "cell_type": "code",
      "source": [
        "df.head()"
      ],
      "metadata": {
        "colab": {
          "base_uri": "https://localhost:8080/",
          "height": 206
        },
        "id": "jXhKoNnqXK7a",
        "outputId": "2fd6488c-fded-470f-85d5-5f43d57e876b"
      },
      "execution_count": 5,
      "outputs": [
        {
          "output_type": "execute_result",
          "data": {
            "text/plain": [
              "   user_id  item_id  rating  timestamp\n",
              "0        0       50       5  881250949\n",
              "1        0      172       5  881250949\n",
              "2        0      133       1  881250949\n",
              "3      196      242       3  881250949\n",
              "4      186      302       3  891717742"
            ],
            "text/html": [
              "\n",
              "  <div id=\"df-7b75e7ef-daec-46fb-b94d-102ba86c544d\">\n",
              "    <div class=\"colab-df-container\">\n",
              "      <div>\n",
              "<style scoped>\n",
              "    .dataframe tbody tr th:only-of-type {\n",
              "        vertical-align: middle;\n",
              "    }\n",
              "\n",
              "    .dataframe tbody tr th {\n",
              "        vertical-align: top;\n",
              "    }\n",
              "\n",
              "    .dataframe thead th {\n",
              "        text-align: right;\n",
              "    }\n",
              "</style>\n",
              "<table border=\"1\" class=\"dataframe\">\n",
              "  <thead>\n",
              "    <tr style=\"text-align: right;\">\n",
              "      <th></th>\n",
              "      <th>user_id</th>\n",
              "      <th>item_id</th>\n",
              "      <th>rating</th>\n",
              "      <th>timestamp</th>\n",
              "    </tr>\n",
              "  </thead>\n",
              "  <tbody>\n",
              "    <tr>\n",
              "      <th>0</th>\n",
              "      <td>0</td>\n",
              "      <td>50</td>\n",
              "      <td>5</td>\n",
              "      <td>881250949</td>\n",
              "    </tr>\n",
              "    <tr>\n",
              "      <th>1</th>\n",
              "      <td>0</td>\n",
              "      <td>172</td>\n",
              "      <td>5</td>\n",
              "      <td>881250949</td>\n",
              "    </tr>\n",
              "    <tr>\n",
              "      <th>2</th>\n",
              "      <td>0</td>\n",
              "      <td>133</td>\n",
              "      <td>1</td>\n",
              "      <td>881250949</td>\n",
              "    </tr>\n",
              "    <tr>\n",
              "      <th>3</th>\n",
              "      <td>196</td>\n",
              "      <td>242</td>\n",
              "      <td>3</td>\n",
              "      <td>881250949</td>\n",
              "    </tr>\n",
              "    <tr>\n",
              "      <th>4</th>\n",
              "      <td>186</td>\n",
              "      <td>302</td>\n",
              "      <td>3</td>\n",
              "      <td>891717742</td>\n",
              "    </tr>\n",
              "  </tbody>\n",
              "</table>\n",
              "</div>\n",
              "      <button class=\"colab-df-convert\" onclick=\"convertToInteractive('df-7b75e7ef-daec-46fb-b94d-102ba86c544d')\"\n",
              "              title=\"Convert this dataframe to an interactive table.\"\n",
              "              style=\"display:none;\">\n",
              "        \n",
              "  <svg xmlns=\"http://www.w3.org/2000/svg\" height=\"24px\"viewBox=\"0 0 24 24\"\n",
              "       width=\"24px\">\n",
              "    <path d=\"M0 0h24v24H0V0z\" fill=\"none\"/>\n",
              "    <path d=\"M18.56 5.44l.94 2.06.94-2.06 2.06-.94-2.06-.94-.94-2.06-.94 2.06-2.06.94zm-11 1L8.5 8.5l.94-2.06 2.06-.94-2.06-.94L8.5 2.5l-.94 2.06-2.06.94zm10 10l.94 2.06.94-2.06 2.06-.94-2.06-.94-.94-2.06-.94 2.06-2.06.94z\"/><path d=\"M17.41 7.96l-1.37-1.37c-.4-.4-.92-.59-1.43-.59-.52 0-1.04.2-1.43.59L10.3 9.45l-7.72 7.72c-.78.78-.78 2.05 0 2.83L4 21.41c.39.39.9.59 1.41.59.51 0 1.02-.2 1.41-.59l7.78-7.78 2.81-2.81c.8-.78.8-2.07 0-2.86zM5.41 20L4 18.59l7.72-7.72 1.47 1.35L5.41 20z\"/>\n",
              "  </svg>\n",
              "      </button>\n",
              "      \n",
              "  <style>\n",
              "    .colab-df-container {\n",
              "      display:flex;\n",
              "      flex-wrap:wrap;\n",
              "      gap: 12px;\n",
              "    }\n",
              "\n",
              "    .colab-df-convert {\n",
              "      background-color: #E8F0FE;\n",
              "      border: none;\n",
              "      border-radius: 50%;\n",
              "      cursor: pointer;\n",
              "      display: none;\n",
              "      fill: #1967D2;\n",
              "      height: 32px;\n",
              "      padding: 0 0 0 0;\n",
              "      width: 32px;\n",
              "    }\n",
              "\n",
              "    .colab-df-convert:hover {\n",
              "      background-color: #E2EBFA;\n",
              "      box-shadow: 0px 1px 2px rgba(60, 64, 67, 0.3), 0px 1px 3px 1px rgba(60, 64, 67, 0.15);\n",
              "      fill: #174EA6;\n",
              "    }\n",
              "\n",
              "    [theme=dark] .colab-df-convert {\n",
              "      background-color: #3B4455;\n",
              "      fill: #D2E3FC;\n",
              "    }\n",
              "\n",
              "    [theme=dark] .colab-df-convert:hover {\n",
              "      background-color: #434B5C;\n",
              "      box-shadow: 0px 1px 3px 1px rgba(0, 0, 0, 0.15);\n",
              "      filter: drop-shadow(0px 1px 2px rgba(0, 0, 0, 0.3));\n",
              "      fill: #FFFFFF;\n",
              "    }\n",
              "  </style>\n",
              "\n",
              "      <script>\n",
              "        const buttonEl =\n",
              "          document.querySelector('#df-7b75e7ef-daec-46fb-b94d-102ba86c544d button.colab-df-convert');\n",
              "        buttonEl.style.display =\n",
              "          google.colab.kernel.accessAllowed ? 'block' : 'none';\n",
              "\n",
              "        async function convertToInteractive(key) {\n",
              "          const element = document.querySelector('#df-7b75e7ef-daec-46fb-b94d-102ba86c544d');\n",
              "          const dataTable =\n",
              "            await google.colab.kernel.invokeFunction('convertToInteractive',\n",
              "                                                     [key], {});\n",
              "          if (!dataTable) return;\n",
              "\n",
              "          const docLinkHtml = 'Like what you see? Visit the ' +\n",
              "            '<a target=\"_blank\" href=https://colab.research.google.com/notebooks/data_table.ipynb>data table notebook</a>'\n",
              "            + ' to learn more about interactive tables.';\n",
              "          element.innerHTML = '';\n",
              "          dataTable['output_type'] = 'display_data';\n",
              "          await google.colab.output.renderOutput(dataTable, element);\n",
              "          const docLink = document.createElement('div');\n",
              "          docLink.innerHTML = docLinkHtml;\n",
              "          element.appendChild(docLink);\n",
              "        }\n",
              "      </script>\n",
              "    </div>\n",
              "  </div>\n",
              "  "
            ]
          },
          "metadata": {},
          "execution_count": 5
        }
      ]
    },
    {
      "cell_type": "code",
      "source": [
        "sns.countplot(y='rating', data=df, palette='pastel')"
      ],
      "metadata": {
        "colab": {
          "base_uri": "https://localhost:8080/",
          "height": 296
        },
        "id": "jYcBAmiIncsR",
        "outputId": "5e15d0c7-e3e0-4e78-ad67-e18bbdf032a1"
      },
      "execution_count": 70,
      "outputs": [
        {
          "output_type": "execute_result",
          "data": {
            "text/plain": [
              "<Axes: xlabel='count', ylabel='rating'>"
            ]
          },
          "metadata": {},
          "execution_count": 70
        },
        {
          "output_type": "display_data",
          "data": {
            "text/plain": [
              "<Figure size 432x288 with 1 Axes>"
            ],
            "image/png": "[encoded data removed]"
          },
          "metadata": {
            "needs_background": "light"
          }
        }
      ]
    },
    {
      "cell_type": "markdown",
      "source": [
        "Here we can see how distributed our ratings are. There is a concentration of ratings around 3 and 4 stars."
      ],
      "metadata": {
        "id": "4iPK8gvFowPi"
      }
    },
    {
      "cell_type": "code",
      "source": [
        "n_items = len(df.item_id.unique())\n",
        "n_users = len(df.user_id.unique())\n",
        "print(f'We have {n_items} movies and {n_users} users')\n",
        "print(f'This means the matrix of ratings should have {n_items * n_users} elements. It has {df.shape[0]} elements, which shows that our matrix is only {df.shape[0]/(n_items*n_users)*100}% filled. This is natural for this kind of problem.')"
      ],
      "metadata": {
        "colab": {
          "base_uri": "https://localhost:8080/"
        },
        "id": "nH0XK4p_Xgp4",
        "outputId": "9a70a302-2c0f-45ec-f470-0f2cb99d6182"
      },
      "execution_count": 73,
      "outputs": [
        {
          "output_type": "stream",
          "name": "stdout",
          "text": [
            "We have 1682 movies and 944 users\n",
            "This means the matrix of ratings should have 1587808 elements. It has 100003 elements, which shows that our matrix is only 6.298179628771237% filled. This is natural for this kind of problem.\n"
          ]
        }
      ]
    },
    {
      "cell_type": "code",
      "source": [
        "class MatrixFactorization(torch.nn.Module):\n",
        "    def __init__(self, n_users, n_items, n_factors=8):\n",
        "        super().__init__()\n",
        "        # create user embeddings\n",
        "        self.user_factors = torch.nn.Embedding(n_users, n_factors) # think of this as a lookup table for the input.\n",
        "        # create item embeddings\n",
        "        self.item_factors = torch.nn.Embedding(n_items, n_factors) # think of this as a lookup table for the input.\n",
        "        self.user_factors.weight.data.uniform_(0, 0.4)\n",
        "        self.item_factors.weight.data.uniform_(0, 0.4)\n",
        "        \n",
        "    def forward(self, data):\n",
        "        # matrix multiplication\n",
        "        users, items = data[:,0], data[:,1]\n",
        "        return (self.user_factors(users)*self.item_factors(items)).sum(1)\n",
        "    \n",
        "    def predict(self, user, item):\n",
        "        return self.forward(user, item)\n",
        "     "
      ],
      "metadata": {
        "id": "yocqVxT9YUZp"
      },
      "execution_count": 65,
      "outputs": []
    },
    {
      "cell_type": "code",
      "source": [
        "# This class is responsible for loading and process the dataset, which is mandatory for pytorch\n",
        "\n",
        "class Loader(Dataset):\n",
        "\n",
        "    def __init__(self):\n",
        "        self.ratings = df.copy()\n",
        "        \n",
        "        # Extract all user IDs and movie IDs\n",
        "        users = df.user_id.unique()\n",
        "        movies = df.item_id.unique()\n",
        "        \n",
        "        # Making so that the IDs are continuous for users and movies\n",
        "        \n",
        "        # Unique values : index\n",
        "        self.userid2idx = {o:i for i,o in enumerate(users)}\n",
        "        self.movieid2idx = {o:i for i,o in enumerate(movies)}\n",
        "        \n",
        "        # Obtained continuous ID for users and movies\n",
        "        self.idx2userid = {i:o for o,i in self.userid2idx.items()}\n",
        "        self.idx2movieid = {i:o for o,i in self.movieid2idx.items()}\n",
        "        \n",
        "        # Switch id from the indexed values as noted in the lambda function down below.\n",
        "        self.ratings.item_id = df.item_id.apply(lambda x: self.movieid2idx[x])\n",
        "        self.ratings.user_id = df.user_id.apply(lambda x: self.userid2idx[x])\n",
        "        \n",
        "        \n",
        "        self.x = self.ratings.drop(['rating', 'timestamp'], axis=1).values\n",
        "        self.y = self.ratings['rating'].values\n",
        "        self.x, self.y = torch.tensor(self.x), torch.tensor(self.y) # Transforms the data to tensors (ready for torch models.)\n",
        "\n",
        "    # Auxiliary functions\n",
        "\n",
        "    def __getitem__(self, index):\n",
        "        return (self.x[index], self.y[index])\n",
        "\n",
        "    def __len__(self):\n",
        "        return len(self.ratings)"
      ],
      "metadata": {
        "id": "k5tFtm8BNun9"
      },
      "execution_count": 66,
      "outputs": []
    },
    {
      "cell_type": "code",
      "source": [
        "n_epochs = 128\n",
        "cuda = torch.cuda.is_available()\n",
        "\n",
        "print(\"Is running on GPU:\", cuda)\n",
        "\n",
        "model = MatrixFactorization(n_users, n_items, n_factors=8)\n",
        "print(model)\n",
        "for name, param in model.named_parameters():\n",
        "    if param.requires_grad:\n",
        "        print(name, param.data)\n",
        "# GPU enable\n",
        "model = model.cuda()\n",
        "\n",
        "# MSE loss\n",
        "loss_fn = torch.nn.MSELoss()\n",
        "\n",
        "# ADAM optimizier\n",
        "optimizer = torch.optim.Adam(model.parameters(), lr=1e-3,capturable=True)\n",
        "\n",
        "\n",
        "# Train data\n",
        "train_set = Loader()\n",
        "train_loader = DataLoader(train_set, 128, shuffle=True)"
      ],
      "metadata": {
        "colab": {
          "base_uri": "https://localhost:8080/"
        },
        "id": "gM4MxC2uN0Yd",
        "outputId": "4551be11-d291-4567-a25d-775ca60aae6b"
      },
      "execution_count": 67,
      "outputs": [
        {
          "output_type": "stream",
          "name": "stdout",
          "text": [
            "Is running on GPU: True\n",
            "MatrixFactorization(\n",
            "  (user_factors): Embedding(944, 8)\n",
            "  (item_factors): Embedding(1682, 8)\n",
            ")\n",
            "user_factors.weight tensor([[0.0415, 0.2441, 0.3804,  ..., 0.1369, 0.1130, 0.2708],\n",
            "        [0.2175, 0.0745, 0.1280,  ..., 0.0803, 0.2708, 0.3681],\n",
            "        [0.0512, 0.2153, 0.0887,  ..., 0.1803, 0.3889, 0.0261],\n",
            "        ...,\n",
            "        [0.1811, 0.0964, 0.2026,  ..., 0.3318, 0.2192, 0.3211],\n",
            "        [0.0773, 0.3559, 0.3001,  ..., 0.3535, 0.0331, 0.1535],\n",
            "        [0.0340, 0.2794, 0.2943,  ..., 0.2943, 0.2017, 0.0131]])\n",
            "item_factors.weight tensor([[0.3097, 0.2013, 0.1906,  ..., 0.3266, 0.1882, 0.0224],\n",
            "        [0.3050, 0.2703, 0.3499,  ..., 0.1137, 0.2079, 0.0875],\n",
            "        [0.3130, 0.3931, 0.3481,  ..., 0.3651, 0.2249, 0.2237],\n",
            "        ...,\n",
            "        [0.2170, 0.2108, 0.3572,  ..., 0.3951, 0.0908, 0.1838],\n",
            "        [0.0124, 0.1274, 0.1838,  ..., 0.3610, 0.1327, 0.3957],\n",
            "        [0.2787, 0.0678, 0.3061,  ..., 0.1554, 0.3749, 0.2659]])\n"
          ]
        }
      ]
    },
    {
      "cell_type": "code",
      "source": [
        "class Model_Train():\n",
        "  def __init__(self, n_epochs, data):\n",
        "    for it in tqdm(range(n_epochs)):\n",
        "      losses = []\n",
        "      for x, y in data:\n",
        "          if cuda:\n",
        "              x, y = x.cuda(), y.cuda()\n",
        "              optimizer.zero_grad()\n",
        "              outputs = model(x)\n",
        "              loss = loss_fn(outputs.squeeze(), y.type(torch.float32))\n",
        "              losses.append(loss.item())\n",
        "              loss.backward()\n",
        "              optimizer.step()\n",
        "      print(\"iter #{}\".format(it), \"Loss:\", sum(losses) / len(losses))"
      ],
      "metadata": {
        "id": "V1GZ0iLrgtIx"
      },
      "execution_count": 68,
      "outputs": []
    },
    {
      "cell_type": "code",
      "source": [
        "Model_Train(n_epochs=128, data=train_loader)"
      ],
      "metadata": {
        "colab": {
          "base_uri": "https://localhost:8080/",
          "height": 1000,
          "referenced_widgets": [
            "080c5205ef684fc7ba31e0cef112389f",
            "796e74fc9fc24d039b534e1abbd03554",
            "05d4cf16e31545a6ac5414da3e1a1752",
            "d5104e89f2f54f69a9addfc0b3943668",
            "bfbc63a203784390ae56f36b997bbe43",
            "585cb911ca7740b8b6e5aa16057e35a3",
            "eec6d9747d7a4c579a39a4efd80bb943",
            "1c5d0a1f52dd425e9b83bbb8d782537b",
            "83f218318ed14663b5c4517dad427d43",
            "26fd27fbcb2e42a19a53f2803c414176",
            "e91163382ba1435b90e1a2b889750b82"
          ]
        },
        "id": "jscUMCpIh5qL",
        "outputId": "2f1dcfeb-a23f-45a0-e194-05759475acd8"
      },
      "execution_count": 69,
      "outputs": [
        {
          "output_type": "stream",
          "name": "stderr",
          "text": [
            "<ipython-input-68-e6c722fc11db>:3: TqdmDeprecationWarning: This function will be removed in tqdm==5.0.0\n",
            "Please use `tqdm.notebook.tqdm` instead of `tqdm.tqdm_notebook`\n",
            "  for it in tqdm(range(n_epochs)):\n"
          ]
        },
        {
          "output_type": "display_data",
          "data": {
            "text/plain": [
              "  0%|          | 0/128 [00:00<?, ?it/s]"
            ],
            "application/vnd.jupyter.widget-view+json": {
              "version_major": 2,
              "version_minor": 0,
              "model_id": "080c5205ef684fc7ba31e0cef112389f"
            }
          },
          "metadata": {}
        },
        {
          "output_type": "stream",
          "name": "stdout",
          "text": [
            "iter #0 Loss: 7.866265371937276\n",
            "iter #1 Loss: 2.22632809185311\n",
            "iter #2 Loss: 1.1671337239882524\n",
            "iter #3 Loss: 0.9787751151167828\n",
            "iter #4 Loss: 0.9144384199396118\n",
            "iter #5 Loss: 0.8881490015617722\n",
            "iter #6 Loss: 0.8745047665008193\n",
            "iter #7 Loss: 0.8666162068581642\n",
            "iter #8 Loss: 0.8624904695374277\n",
            "iter #9 Loss: 0.8584857878020352\n",
            "iter #10 Loss: 0.8556322762575905\n",
            "iter #11 Loss: 0.8528616489351862\n",
            "iter #12 Loss: 0.8508556885335147\n",
            "iter #13 Loss: 0.8478907184375216\n",
            "iter #14 Loss: 0.8456167700650442\n",
            "iter #15 Loss: 0.8429022576193066\n",
            "iter #16 Loss: 0.8402806020453762\n",
            "iter #17 Loss: 0.8373089935773473\n",
            "iter #18 Loss: 0.8349455488307397\n",
            "iter #19 Loss: 0.8307128749082765\n",
            "iter #20 Loss: 0.8270241017155635\n",
            "iter #21 Loss: 0.8234937414336387\n",
            "iter #22 Loss: 0.818311056212696\n",
            "iter #23 Loss: 0.8142424315747703\n",
            "iter #24 Loss: 0.8089310444529404\n",
            "iter #25 Loss: 0.8032261582134325\n",
            "iter #26 Loss: 0.7971294891194004\n",
            "iter #27 Loss: 0.790946948253895\n",
            "iter #28 Loss: 0.7844575087127783\n",
            "iter #29 Loss: 0.7772234551741949\n",
            "iter #30 Loss: 0.7702920122067337\n",
            "iter #31 Loss: 0.7632217610354923\n",
            "iter #32 Loss: 0.7555630201726313\n",
            "iter #33 Loss: 0.74829593064535\n",
            "iter #34 Loss: 0.7413245996703273\n",
            "iter #35 Loss: 0.7337247440424721\n",
            "iter #36 Loss: 0.7272228614601028\n",
            "iter #37 Loss: 0.7203132116504948\n",
            "iter #38 Loss: 0.7140468161962831\n",
            "iter #39 Loss: 0.7085897610772907\n",
            "iter #40 Loss: 0.7024079989213163\n",
            "iter #41 Loss: 0.6970337811485886\n",
            "iter #42 Loss: 0.6919789454135139\n",
            "iter #43 Loss: 0.6874891541269429\n",
            "iter #44 Loss: 0.6827097563716151\n",
            "iter #45 Loss: 0.6783070654972739\n",
            "iter #46 Loss: 0.6740158643868878\n",
            "iter #47 Loss: 0.670673346008791\n",
            "iter #48 Loss: 0.6665851587377241\n",
            "iter #49 Loss: 0.6636068934903425\n",
            "iter #50 Loss: 0.6598049363745447\n",
            "iter #51 Loss: 0.6572268978332925\n",
            "iter #52 Loss: 0.6540027932285348\n",
            "iter #53 Loss: 0.65109157970037\n",
            "iter #54 Loss: 0.6485503475227015\n",
            "iter #55 Loss: 0.6457078592551638\n",
            "iter #56 Loss: 0.6434582615904796\n",
            "iter #57 Loss: 0.6410746054195077\n",
            "iter #58 Loss: 0.6386443662369038\n",
            "iter #59 Loss: 0.6369031883033035\n",
            "iter #60 Loss: 0.6350482714450573\n",
            "iter #61 Loss: 0.6328413744488031\n",
            "iter #62 Loss: 0.6311559544499877\n",
            "iter #63 Loss: 0.6287969498683119\n",
            "iter #64 Loss: 0.627179794680432\n",
            "iter #65 Loss: 0.625270431989904\n",
            "iter #66 Loss: 0.6238816152981785\n",
            "iter #67 Loss: 0.6223349229377859\n",
            "iter #68 Loss: 0.620693118256681\n",
            "iter #69 Loss: 0.6198077243764687\n",
            "iter #70 Loss: 0.6184736496347296\n",
            "iter #71 Loss: 0.6166179925965531\n",
            "iter #72 Loss: 0.6153061509208606\n",
            "iter #73 Loss: 0.6139846114856203\n",
            "iter #74 Loss: 0.6126899771830615\n",
            "iter #75 Loss: 0.6116735552582899\n",
            "iter #76 Loss: 0.6104796609991346\n",
            "iter #77 Loss: 0.6090818719790719\n",
            "iter #78 Loss: 0.6082609444856644\n",
            "iter #79 Loss: 0.6069788539501102\n",
            "iter #80 Loss: 0.6058457876410326\n",
            "iter #81 Loss: 0.6050843406287606\n",
            "iter #82 Loss: 0.6041234668792056\n",
            "iter #83 Loss: 0.6030755639838441\n",
            "iter #84 Loss: 0.6024943288711025\n",
            "iter #85 Loss: 0.6014413199461329\n",
            "iter #86 Loss: 0.6005637763101427\n",
            "iter #87 Loss: 0.5998729899944857\n",
            "iter #88 Loss: 0.5986037960137858\n",
            "iter #89 Loss: 0.5979263872441734\n",
            "iter #90 Loss: 0.5971079509505226\n",
            "iter #91 Loss: 0.5963357006726058\n",
            "iter #92 Loss: 0.5954517700788006\n",
            "iter #93 Loss: 0.5948222497921161\n",
            "iter #94 Loss: 0.59428282295499\n",
            "iter #95 Loss: 0.5933964091264988\n",
            "iter #96 Loss: 0.5927508469585263\n",
            "iter #97 Loss: 0.5920160501966696\n",
            "iter #98 Loss: 0.5910638066585107\n",
            "iter #99 Loss: 0.5904905300234895\n",
            "iter #100 Loss: 0.5900668749571456\n",
            "iter #101 Loss: 0.5893754301702275\n",
            "iter #102 Loss: 0.5884090934872932\n",
            "iter #103 Loss: 0.5882665360217814\n",
            "iter #104 Loss: 0.5876226670601788\n",
            "iter #105 Loss: 0.5869168823256212\n",
            "iter #106 Loss: 0.5866236791129003\n",
            "iter #107 Loss: 0.5856202457795667\n",
            "iter #108 Loss: 0.5851743364196909\n",
            "iter #109 Loss: 0.5848044316329615\n",
            "iter #110 Loss: 0.5840765158538623\n",
            "iter #111 Loss: 0.5837308305608647\n",
            "iter #112 Loss: 0.5833044841009027\n",
            "iter #113 Loss: 0.5827578947977032\n",
            "iter #114 Loss: 0.5822344490176882\n",
            "iter #115 Loss: 0.5817775267850408\n",
            "iter #116 Loss: 0.5812555298857067\n",
            "iter #117 Loss: 0.5809149142650082\n",
            "iter #118 Loss: 0.5802387426728788\n",
            "iter #119 Loss: 0.5799542969983557\n",
            "iter #120 Loss: 0.5793944707002177\n",
            "iter #121 Loss: 0.5789818313268139\n",
            "iter #122 Loss: 0.5786685645961396\n",
            "iter #123 Loss: 0.5780222892303906\n",
            "iter #124 Loss: 0.5778647065543763\n",
            "iter #125 Loss: 0.5773801568066678\n",
            "iter #126 Loss: 0.5771522466331491\n",
            "iter #127 Loss: 0.5768188419930466\n"
          ]
        },
        {
          "output_type": "execute_result",
          "data": {
            "text/plain": [
              "<__main__.Model_Train at 0x7f1914040fd0>"
            ]
          },
          "metadata": {},
          "execution_count": 69
        }
      ]
    },
    {
      "cell_type": "code",
      "source": [
        "# By training the model, we will have tuned latent factors for movies and users.\n",
        "c = 0\n",
        "uw = 0\n",
        "iw = 0 \n",
        "for name, param in model.named_parameters():\n",
        "    if param.requires_grad:\n",
        "        print(name, param.data)\n",
        "        if c == 0:\n",
        "          uw = param.data\n",
        "          c +=1\n",
        "        else:\n",
        "          iw = param.data\n",
        "        #print('param_data', param_data)\n",
        "\n",
        "# We can see that the weights were, in fact, changed. This means our algorithm worked."
      ],
      "metadata": {
        "colab": {
          "base_uri": "https://localhost:8080/"
        },
        "id": "rlssWMb-SNj4",
        "outputId": "f92d0a39-c6e5-4ea0-de0e-93243d51e313"
      },
      "execution_count": 75,
      "outputs": [
        {
          "output_type": "stream",
          "name": "stdout",
          "text": [
            "user_factors.weight tensor([[-0.6762,  0.5290,  0.5541,  ...,  2.9793,  1.2444, -0.4785],\n",
            "        [ 0.8081,  0.8400,  0.9247,  ...,  0.0434,  0.2986,  0.3362],\n",
            "        [ 0.2530, -0.5975,  1.0025,  ...,  0.8363,  1.3702,  0.2670],\n",
            "        ...,\n",
            "        [ 0.1341, -0.5820,  1.2090,  ...,  0.3953,  0.8921,  1.4233],\n",
            "        [ 0.8885,  1.1606,  0.7398,  ..., -0.2172,  1.1214,  0.7420],\n",
            "        [ 0.5066,  0.3998,  0.8044,  ...,  0.6930,  0.4540,  1.2228]],\n",
            "       device='cuda:0')\n",
            "item_factors.weight tensor([[ 0.7165,  1.2986,  1.1291,  ...,  0.9849,  0.6564,  0.2900],\n",
            "        [ 0.7911,  1.2411,  1.0935,  ...,  0.8830,  0.7410,  0.1280],\n",
            "        [ 1.3379,  0.8874,  1.4110,  ..., -0.0122,  0.3536,  0.2992],\n",
            "        ...,\n",
            "        [ 0.6590,  0.6537,  0.7766,  ...,  0.7504,  0.5265,  0.6143],\n",
            "        [ 0.5099,  0.6268,  0.6552,  ...,  0.6656,  0.6243,  0.8795],\n",
            "        [ 0.7411,  0.5315,  0.7448,  ...,  0.5384,  0.8289,  0.7168]],\n",
            "       device='cuda:0')\n"
          ]
        }
      ]
    },
    {
      "cell_type": "code",
      "source": [
        "trained_movie_embeddings = model.item_factors.weight.data.cpu().numpy()"
      ],
      "metadata": {
        "id": "hJC_GwYo6OKq"
      },
      "execution_count": 76,
      "outputs": []
    },
    {
      "cell_type": "code",
      "source": [
        "len(trained_movie_embeddings) # unique movie factor weights"
      ],
      "metadata": {
        "colab": {
          "base_uri": "https://localhost:8080/"
        },
        "id": "WeEs4fpc6QaC",
        "outputId": "bd53581c-846a-4099-8fd2-a5424fca43a3"
      },
      "execution_count": 77,
      "outputs": [
        {
          "output_type": "execute_result",
          "data": {
            "text/plain": [
              "1682"
            ]
          },
          "metadata": {},
          "execution_count": 77
        }
      ]
    },
    {
      "cell_type": "code",
      "source": [
        "from sklearn.cluster import KMeans\n",
        "# Fit the clusters based on the movie weights\n",
        "kmeans = KMeans(n_clusters=12, random_state=0).fit(trained_movie_embeddings)"
      ],
      "metadata": {
        "colab": {
          "base_uri": "https://localhost:8080/"
        },
        "id": "hUR_1NBJ6S55",
        "outputId": "c298a195-2e0b-4e19-afd8-a498bff26625"
      },
      "execution_count": 78,
      "outputs": [
        {
          "output_type": "stream",
          "name": "stderr",
          "text": [
            "/usr/local/lib/python3.9/dist-packages/sklearn/cluster/_kmeans.py:870: FutureWarning: The default value of `n_init` will change from 10 to 'auto' in 1.4. Set the value of `n_init` explicitly to suppress the warning\n",
            "  warnings.warn(\n"
          ]
        }
      ]
    },
    {
      "cell_type": "code",
      "source": [
        "movie_names = df_ids.set_index('item_id')['title'].to_dict()"
      ],
      "metadata": {
        "id": "zgFyms5wdJAJ"
      },
      "execution_count": 79,
      "outputs": []
    },
    {
      "cell_type": "code",
      "source": [
        "# Note from this result that similar movies are in the same clusters. It is worth mentioning that the algorithm doesn't know the movie titles\n",
        "# This clustering is only provided by the numbers of the weights, and have no biases around the names of the items.\n",
        "\n",
        "for cluster in range(12):\n",
        "  print(\"Cluster #{}\".format(cluster))\n",
        "  movs = []\n",
        "  for movidx in np.where(kmeans.labels_ == cluster)[0]:\n",
        "    movid = train_set.idx2movieid[movidx]\n",
        "    rat_count = df.loc[df['item_id']==movid].count()[0]\n",
        "    movs.append((movie_names[movid], rat_count))\n",
        "  for mov in sorted(movs, key=lambda tup: tup[1], reverse=True)[:20]:\n",
        "    print(\"\\t\", mov[0])"
      ],
      "metadata": {
        "colab": {
          "base_uri": "https://localhost:8080/"
        },
        "id": "g72xbN5s6V4r",
        "outputId": "a986ff3e-02f2-425a-a2f6-e669df828d00"
      },
      "execution_count": 80,
      "outputs": [
        {
          "output_type": "stream",
          "name": "stdout",
          "text": [
            "Cluster #0\n",
            "\t Truth About Cats & Dogs, The (1996)\n",
            "\t Sleepless in Seattle (1993)\n",
            "\t Ghost (1990)\n",
            "\t Dragonheart (1996)\n",
            "\t Last of the Mohicans, The (1992)\n",
            "\t Michael (1996)\n",
            "\t Star Trek: The Motion Picture (1979)\n",
            "\t Dirty Dancing (1987)\n",
            "\t Spitfire Grill, The (1996)\n",
            "\t Three Musketeers, The (1993)\n",
            "\t First Knight (1995)\n",
            "\t Beautician and the Beast, The (1997)\n",
            "\t Up Close and Personal (1996)\n",
            "\t Somewhere in Time (1980)\n",
            "\t Santa Clause, The (1994)\n",
            "\t Legends of the Fall (1994)\n",
            "\t Picture Perfect (1997)\n",
            "\t Dolores Claiborne (1994)\n",
            "\t Crucible, The (1996)\n",
            "\t Circle of Friends (1995)\n",
            "Cluster #1\n",
            "\t Pulp Fiction (1994)\n",
            "\t Twelve Monkeys (1995)\n",
            "\t Monty Python and the Holy Grail (1974)\n",
            "\t Terminator, The (1984)\n",
            "\t Blade Runner (1982)\n",
            "\t Clockwork Orange, A (1971)\n",
            "\t Brazil (1985)\n",
            "\t Fifth Element, The (1997)\n",
            "\t This Is Spinal Tap (1984)\n",
            "\t Cop Land (1997)\n",
            "\t Monty Python's Life of Brian (1979)\n",
            "\t Rumble in the Bronx (1995)\n",
            "\t Full Metal Jacket (1987)\n",
            "\t Mother (1996)\n",
            "\t Everyone Says I Love You (1996)\n",
            "\t Grosse Pointe Blank (1997)\n",
            "\t Professional, The (1994)\n",
            "\t Reservoir Dogs (1992)\n",
            "\t Clerks (1994)\n",
            "\t Jackie Chan's First Strike (1996)\n",
            "Cluster #2\n",
            "\t Independence Day (ID4) (1996)\n",
            "\t Mission: Impossible (1996)\n",
            "\t Men in Black (1997)\n",
            "\t Twister (1996)\n",
            "\t Broken Arrow (1996)\n",
            "\t Devil's Own, The (1997)\n",
            "\t Dante's Peak (1997)\n",
            "\t Volcano (1997)\n",
            "\t Murder at 1600 (1997)\n",
            "\t Eraser (1996)\n",
            "\t Long Kiss Goodnight, The (1996)\n",
            "\t G.I. Jane (1997)\n",
            "\t Die Hard 2 (1990)\n",
            "\t Executive Decision (1996)\n",
            "\t Grumpier Old Men (1995)\n",
            "\t Spawn (1997)\n",
            "\t Con Air (1997)\n",
            "\t Peacemaker, The (1997)\n",
            "\t Gattaca (1997)\n",
            "\t Crow, The (1994)\n",
            "Cluster #3\n",
            "\t Dead Man Walking (1995)\n",
            "\t Chasing Amy (1997)\n",
            "\t Emma (1996)\n",
            "\t Swingers (1996)\n",
            "\t Shine (1996)\n",
            "\t Lost Highway (1997)\n",
            "\t Cold Comfort Farm (1995)\n",
            "\t Chasing Amy (1997)\n",
            "\t What's Eating Gilbert Grape (1993)\n",
            "\t Adventures of Priscilla, Queen of the Desert, The (1994)\n",
            "\t In the Name of the Father (1993)\n",
            "\t Romy and Michele's High School Reunion (1997)\n",
            "\t Matilda (1996)\n",
            "\t So I Married an Axe Murderer (1993)\n",
            "\t Michael Collins (1996)\n",
            "\t Rob Roy (1995)\n",
            "\t Nixon (1995)\n",
            "\t Reality Bites (1994)\n",
            "\t Six Degrees of Separation (1993)\n",
            "\t Seventh Seal, The (Sjunde inseglet, Det) (1957)\n",
            "Cluster #4\n",
            "\t Cable Guy, The (1996)\n",
            "\t Very Brady Sequel, A (1996)\n",
            "\t Mulholland Falls (1996)\n",
            "\t Dracula: Dead and Loving It (1995)\n",
            "\t Lawnmower Man 2: Beyond Cyberspace (1996)\n",
            "\t Children of the Corn: The Gathering (1996)\n",
            "\t Ready to Wear (Pret-A-Porter) (1994)\n",
            "\t Cops and Robbersons (1994)\n",
            "\t Pagemaster, The (1994)\n",
            "\t House Party 3 (1994)\n",
            "\t Dunston Checks In (1996)\n",
            "\t Amityville 3-D (1983)\n",
            "\t Amityville: A New Generation (1993)\n",
            "\t Phat Beach (1996)\n",
            "\t 3 Ninjas: High Noon At Mega Mountain (1998)\n",
            "\t Amityville 1992: It's About Time (1992)\n",
            "\t Jefferson in Paris (1995)\n",
            "\t Castle Freak (1995)\n",
            "\t Amityville Curse, The (1990)\n",
            "\t Mr. Wonderful (1993)\n",
            "Cluster #5\n",
            "\t Liar Liar (1997)\n",
            "\t Saint, The (1997)\n",
            "\t Evita (1996)\n",
            "\t That Thing You Do! (1996)\n",
            "\t George of the Jungle (1997)\n",
            "\t Seven Years in Tibet (1997)\n",
            "\t Batman Returns (1992)\n",
            "\t Interview with the Vampire (1994)\n",
            "\t Mask, The (1994)\n",
            "\t Bram Stoker's Dracula (1992)\n",
            "\t Waterworld (1995)\n",
            "\t Fierce Creatures (1997)\n",
            "\t Demolition Man (1993)\n",
            "\t Muppet Treasure Island (1996)\n",
            "\t Midnight in the Garden of Good and Evil (1997)\n",
            "\t Marvin's Room (1996)\n",
            "\t She's the One (1996)\n",
            "\t Wedding Singer, The (1998)\n",
            "\t Things to Do in Denver when You're Dead (1995)\n",
            "\t Enchanted April (1991)\n",
            "Cluster #6\n",
            "\t E.T. the Extra-Terrestrial (1982)\n",
            "\t Jurassic Park (1993)\n",
            "\t Wizard of Oz, The (1939)\n",
            "\t It's a Wonderful Life (1946)\n",
            "\t Speed (1994)\n",
            "\t Sound of Music, The (1965)\n",
            "\t Lion King, The (1994)\n",
            "\t Field of Dreams (1989)\n",
            "\t Beauty and the Beast (1991)\n",
            "\t Mrs. Doubtfire (1993)\n",
            "\t Mary Poppins (1964)\n",
            "\t Gone with the Wind (1939)\n",
            "\t Snow White and the Seven Dwarfs (1937)\n",
            "\t Grease (1978)\n",
            "\t Pretty Woman (1990)\n",
            "\t Lost World: Jurassic Park, The (1997)\n",
            "\t Singin' in the Rain (1952)\n",
            "\t Home Alone (1990)\n",
            "\t Patton (1970)\n",
            "\t Cinderella (1950)\n",
            "Cluster #7\n",
            "\t Fargo (1996)\n",
            "\t Godfather, The (1972)\n",
            "\t Leaving Las Vegas (1995)\n",
            "\t Raising Arizona (1987)\n",
            "\t Casablanca (1942)\n",
            "\t Graduate, The (1967)\n",
            "\t Psycho (1960)\n",
            "\t GoodFellas (1990)\n",
            "\t Apocalypse Now (1979)\n",
            "\t To Kill a Mockingbird (1962)\n",
            "\t Butch Cassidy and the Sundance Kid (1969)\n",
            "\t Rear Window (1954)\n",
            "\t Godfather: Part II, The (1974)\n",
            "\t Shining, The (1980)\n",
            "\t M*A*S*H (1970)\n",
            "\t Citizen Kane (1941)\n",
            "\t Dr. Strangelove or: How I Learned to Stop Worrying and Love the Bomb (1963)\n",
            "\t Lone Star (1996)\n",
            "\t Postino, Il (1994)\n",
            "\t Taxi Driver (1976)\n",
            "Cluster #8\n",
            "\t Star Wars (1977)\n",
            "\t Return of the Jedi (1983)\n",
            "\t Empire Strikes Back, The (1980)\n",
            "\t Alien (1979)\n",
            "\t Aliens (1986)\n",
            "\t 2001: A Space Odyssey (1968)\n",
            "\t Star Trek: The Wrath of Khan (1982)\n",
            "\t Starship Troopers (1997)\n",
            "\t Star Trek IV: The Voyage Home (1986)\n",
            "\t Star Trek III: The Search for Spock (1984)\n",
            "\t Star Trek VI: The Undiscovered Country (1991)\n",
            "\t Happy Gilmore (1996)\n",
            "\t Good, The Bad and The Ugly, The (1966)\n",
            "\t Alien: Resurrection (1997)\n",
            "\t Star Trek: Generations (1994)\n",
            "\t Jumanji (1995)\n",
            "\t Escape from New York (1981)\n",
            "\t Addams Family Values (1993)\n",
            "\t Arrival, The (1996)\n",
            "\t Brady Bunch Movie, The (1995)\n",
            "Cluster #9\n",
            "\t Full Monty, The (1997)\n",
            "\t L.A. Confidential (1997)\n",
            "\t Trainspotting (1996)\n",
            "\t Mars Attacks! (1996)\n",
            "\t People vs. Larry Flynt, The (1996)\n",
            "\t Boogie Nights (1997)\n",
            "\t Mighty Aphrodite (1995)\n",
            "\t Heathers (1989)\n",
            "\t Secrets & Lies (1996)\n",
            "\t Remains of the Day, The (1993)\n",
            "\t Nightmare Before Christmas, The (1993)\n",
            "\t Nikita (La Femme Nikita) (1990)\n",
            "\t Jackie Brown (1997)\n",
            "\t Kolya (1996)\n",
            "\t Hoop Dreams (1994)\n",
            "\t Army of Darkness (1993)\n",
            "\t Strictly Ballroom (1992)\n",
            "\t American Werewolf in London, An (1981)\n",
            "\t Unbearable Lightness of Being, The (1988)\n",
            "\t Return of the Pink Panther, The (1974)\n",
            "Cluster #10\n",
            "\t Clueless (1995)\n",
            "\t Nutty Professor, The (1996)\n",
            "\t Beavis and Butt-head Do America (1996)\n",
            "\t Crash (1996)\n",
            "\t Event Horizon (1997)\n",
            "\t Ben-Hur (1959)\n",
            "\t Scream 2 (1997)\n",
            "\t I Know What You Did Last Summer (1997)\n",
            "\t Age of Innocence, The (1993)\n",
            "\t Night of the Living Dead (1968)\n",
            "\t Island of Dr. Moreau, The (1996)\n",
            "\t Booty Call (1997)\n",
            "\t Money Talks (1997)\n",
            "\t Bride of Frankenstein (1935)\n",
            "\t Screamers (1995)\n",
            "\t Fear (1996)\n",
            "\t Sweet Hereafter, The (1997)\n",
            "\t Fallen (1998)\n",
            "\t Anaconda (1997)\n",
            "\t Belle de jour (1967)\n",
            "Cluster #11\n",
            "\t Contact (1997)\n",
            "\t English Patient, The (1996)\n",
            "\t Scream (1996)\n",
            "\t Toy Story (1995)\n",
            "\t Air Force One (1997)\n",
            "\t Raiders of the Lost Ark (1981)\n",
            "\t Silence of the Lambs, The (1991)\n",
            "\t Jerry Maguire (1996)\n",
            "\t Rock, The (1996)\n",
            "\t Star Trek: First Contact (1996)\n",
            "\t Back to the Future (1985)\n",
            "\t Titanic (1997)\n",
            "\t Fugitive, The (1993)\n",
            "\t Indiana Jones and the Last Crusade (1989)\n",
            "\t Willy Wonka and the Chocolate Factory (1971)\n",
            "\t Princess Bride, The (1987)\n",
            "\t Forrest Gump (1994)\n",
            "\t Schindler's List (1993)\n",
            "\t Braveheart (1995)\n",
            "\t Conspiracy Theory (1997)\n"
          ]
        }
      ]
    }
  ]
}